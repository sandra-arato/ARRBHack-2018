{
 "cells": [
  {
   "cell_type": "code",
   "execution_count": 1,
   "metadata": {
    "collapsed": true
   },
   "outputs": [],
   "source": [
    "%matplotlib inline\n",
    "import sys\n",
    "import numpy as np\n",
    "import pandas as pd\n",
    "import matplotlib.pyplot as plt\n",
    "import math\n",
    "import os"
   ]
  },
  {
   "cell_type": "code",
   "execution_count": 2,
   "metadata": {
    "collapsed": true
   },
   "outputs": [],
   "source": [
    "data_path = r'/Users/alexandraszenti/Documents/GitHub Projects/ARRBHack-2018/_data'"
   ]
  },
  {
   "cell_type": "code",
   "execution_count": 3,
   "metadata": {
    "collapsed": true
   },
   "outputs": [],
   "source": [
    "df = pd.read_csv(os.path.join(data_path,'roadcasualties.csv'))"
   ]
  },
  {
   "cell_type": "code",
   "execution_count": 4,
   "metadata": {},
   "outputs": [
    {
     "data": {
      "text/html": [
       "<div>\n",
       "<style>\n",
       "    .dataframe thead tr:only-child th {\n",
       "        text-align: right;\n",
       "    }\n",
       "\n",
       "    .dataframe thead th {\n",
       "        text-align: left;\n",
       "    }\n",
       "\n",
       "    .dataframe tbody tr th {\n",
       "        vertical-align: top;\n",
       "    }\n",
       "</style>\n",
       "<table border=\"1\" class=\"dataframe\">\n",
       "  <thead>\n",
       "    <tr style=\"text-align: right;\">\n",
       "      <th></th>\n",
       "      <th>Crash_Year</th>\n",
       "      <th>Crash_Police_Region</th>\n",
       "      <th>Casualty_Severity</th>\n",
       "      <th>Casualty_AgeGroup</th>\n",
       "      <th>Casualty_Gender</th>\n",
       "      <th>Casualty_RoadUserType</th>\n",
       "      <th>Casualty_Count</th>\n",
       "    </tr>\n",
       "  </thead>\n",
       "  <tbody>\n",
       "    <tr>\n",
       "      <th>0</th>\n",
       "      <td>2001</td>\n",
       "      <td>Central</td>\n",
       "      <td>Fatality</td>\n",
       "      <td>0 to 16</td>\n",
       "      <td>Male</td>\n",
       "      <td>Bicyclist</td>\n",
       "      <td>1</td>\n",
       "    </tr>\n",
       "    <tr>\n",
       "      <th>1</th>\n",
       "      <td>2001</td>\n",
       "      <td>Central</td>\n",
       "      <td>Fatality</td>\n",
       "      <td>0 to 16</td>\n",
       "      <td>Male</td>\n",
       "      <td>Passenger</td>\n",
       "      <td>3</td>\n",
       "    </tr>\n",
       "    <tr>\n",
       "      <th>2</th>\n",
       "      <td>2001</td>\n",
       "      <td>Central</td>\n",
       "      <td>Fatality</td>\n",
       "      <td>0 to 16</td>\n",
       "      <td>Male</td>\n",
       "      <td>Pedestrian</td>\n",
       "      <td>1</td>\n",
       "    </tr>\n",
       "    <tr>\n",
       "      <th>3</th>\n",
       "      <td>2001</td>\n",
       "      <td>Central</td>\n",
       "      <td>Fatality</td>\n",
       "      <td>0 to 16</td>\n",
       "      <td>Female</td>\n",
       "      <td>Passenger</td>\n",
       "      <td>1</td>\n",
       "    </tr>\n",
       "    <tr>\n",
       "      <th>4</th>\n",
       "      <td>2001</td>\n",
       "      <td>Central</td>\n",
       "      <td>Fatality</td>\n",
       "      <td>17 to 24</td>\n",
       "      <td>Male</td>\n",
       "      <td>Driver</td>\n",
       "      <td>12</td>\n",
       "    </tr>\n",
       "  </tbody>\n",
       "</table>\n",
       "</div>"
      ],
      "text/plain": [
       "   Crash_Year Crash_Police_Region Casualty_Severity Casualty_AgeGroup  \\\n",
       "0        2001             Central          Fatality           0 to 16   \n",
       "1        2001             Central          Fatality           0 to 16   \n",
       "2        2001             Central          Fatality           0 to 16   \n",
       "3        2001             Central          Fatality           0 to 16   \n",
       "4        2001             Central          Fatality          17 to 24   \n",
       "\n",
       "  Casualty_Gender Casualty_RoadUserType  Casualty_Count  \n",
       "0            Male             Bicyclist               1  \n",
       "1            Male             Passenger               3  \n",
       "2            Male            Pedestrian               1  \n",
       "3          Female             Passenger               1  \n",
       "4            Male                Driver              12  "
      ]
     },
     "execution_count": 4,
     "metadata": {},
     "output_type": "execute_result"
    }
   ],
   "source": [
    "df.head()"
   ]
  },
  {
   "cell_type": "code",
   "execution_count": 18,
   "metadata": {},
   "outputs": [],
   "source": [
    "cyclists = df[df.Casualty_RoadUserType == 'Bicyclist']"
   ]
  },
  {
   "cell_type": "code",
   "execution_count": 19,
   "metadata": {},
   "outputs": [
    {
     "data": {
      "text/html": [
       "<div>\n",
       "<style>\n",
       "    .dataframe thead tr:only-child th {\n",
       "        text-align: right;\n",
       "    }\n",
       "\n",
       "    .dataframe thead th {\n",
       "        text-align: left;\n",
       "    }\n",
       "\n",
       "    .dataframe tbody tr th {\n",
       "        vertical-align: top;\n",
       "    }\n",
       "</style>\n",
       "<table border=\"1\" class=\"dataframe\">\n",
       "  <thead>\n",
       "    <tr style=\"text-align: right;\">\n",
       "      <th></th>\n",
       "      <th>Crash_Year</th>\n",
       "      <th>Crash_Police_Region</th>\n",
       "      <th>Casualty_Severity</th>\n",
       "      <th>Casualty_AgeGroup</th>\n",
       "      <th>Casualty_Gender</th>\n",
       "      <th>Casualty_RoadUserType</th>\n",
       "      <th>Casualty_Count</th>\n",
       "    </tr>\n",
       "  </thead>\n",
       "  <tbody>\n",
       "    <tr>\n",
       "      <th>0</th>\n",
       "      <td>2001</td>\n",
       "      <td>Central</td>\n",
       "      <td>Fatality</td>\n",
       "      <td>0 to 16</td>\n",
       "      <td>Male</td>\n",
       "      <td>Bicyclist</td>\n",
       "      <td>1</td>\n",
       "    </tr>\n",
       "    <tr>\n",
       "      <th>1</th>\n",
       "      <td>2001</td>\n",
       "      <td>Central</td>\n",
       "      <td>Fatality</td>\n",
       "      <td>0 to 16</td>\n",
       "      <td>Male</td>\n",
       "      <td>Bicyclist</td>\n",
       "      <td>3</td>\n",
       "    </tr>\n",
       "    <tr>\n",
       "      <th>2</th>\n",
       "      <td>2001</td>\n",
       "      <td>Central</td>\n",
       "      <td>Fatality</td>\n",
       "      <td>0 to 16</td>\n",
       "      <td>Male</td>\n",
       "      <td>Bicyclist</td>\n",
       "      <td>1</td>\n",
       "    </tr>\n",
       "    <tr>\n",
       "      <th>3</th>\n",
       "      <td>2001</td>\n",
       "      <td>Central</td>\n",
       "      <td>Fatality</td>\n",
       "      <td>0 to 16</td>\n",
       "      <td>Female</td>\n",
       "      <td>Bicyclist</td>\n",
       "      <td>1</td>\n",
       "    </tr>\n",
       "    <tr>\n",
       "      <th>4</th>\n",
       "      <td>2001</td>\n",
       "      <td>Central</td>\n",
       "      <td>Fatality</td>\n",
       "      <td>17 to 24</td>\n",
       "      <td>Male</td>\n",
       "      <td>Bicyclist</td>\n",
       "      <td>12</td>\n",
       "    </tr>\n",
       "  </tbody>\n",
       "</table>\n",
       "</div>"
      ],
      "text/plain": [
       "   Crash_Year Crash_Police_Region Casualty_Severity Casualty_AgeGroup  \\\n",
       "0        2001             Central          Fatality           0 to 16   \n",
       "1        2001             Central          Fatality           0 to 16   \n",
       "2        2001             Central          Fatality           0 to 16   \n",
       "3        2001             Central          Fatality           0 to 16   \n",
       "4        2001             Central          Fatality          17 to 24   \n",
       "\n",
       "  Casualty_Gender Casualty_RoadUserType  Casualty_Count  \n",
       "0            Male             Bicyclist               1  \n",
       "1            Male             Bicyclist               3  \n",
       "2            Male             Bicyclist               1  \n",
       "3          Female             Bicyclist               1  \n",
       "4            Male             Bicyclist              12  "
      ]
     },
     "execution_count": 19,
     "metadata": {},
     "output_type": "execute_result"
    }
   ],
   "source": [
    "cyclists.head()"
   ]
  },
  {
   "cell_type": "code",
   "execution_count": 21,
   "metadata": {},
   "outputs": [
    {
     "data": {
      "text/plain": [
       "17 to 24       2791\n",
       "30 to 39       2652\n",
       "40 to 49       2600\n",
       "25 to 29       2438\n",
       "50 to 59       2438\n",
       "0 to 16        2267\n",
       "60 to 74       2234\n",
       "75 and over    1632\n",
       "Unknown        1000\n",
       "Name: Casualty_AgeGroup, dtype: int64"
      ]
     },
     "execution_count": 21,
     "metadata": {},
     "output_type": "execute_result"
    }
   ],
   "source": [
    "cyclists.Casualty_AgeGroup.value_counts()"
   ]
  },
  {
   "cell_type": "code",
   "execution_count": 23,
   "metadata": {},
   "outputs": [
    {
     "data": {
      "text/plain": [
       "Hospitalised         6257\n",
       "Medically treated    6249\n",
       "Minor injury         5199\n",
       "Fatality             2347\n",
       "Name: Casualty_Severity, dtype: int64"
      ]
     },
     "execution_count": 23,
     "metadata": {},
     "output_type": "execute_result"
    }
   ],
   "source": [
    "cyclists.Casualty_Severity.value_counts()"
   ]
  },
  {
   "cell_type": "code",
   "execution_count": 27,
   "metadata": {},
   "outputs": [
    {
     "name": "stdout",
     "output_type": "stream",
     "text": [
      "0.43\n"
     ]
    }
   ],
   "source": [
    "print(8600/20000)"
   ]
  },
  {
   "cell_type": "code",
   "execution_count": null,
   "metadata": {
    "collapsed": true
   },
   "outputs": [],
   "source": []
  }
 ],
 "metadata": {
  "kernelspec": {
   "display_name": "Python 3",
   "language": "python",
   "name": "python3"
  },
  "language_info": {
   "codemirror_mode": {
    "name": "ipython",
    "version": 3
   },
   "file_extension": ".py",
   "mimetype": "text/x-python",
   "name": "python",
   "nbconvert_exporter": "python",
   "pygments_lexer": "ipython3",
   "version": "3.6.3"
  }
 },
 "nbformat": 4,
 "nbformat_minor": 2
}
