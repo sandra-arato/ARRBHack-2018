{
 "cells": [
  {
   "cell_type": "code",
   "execution_count": 1,
   "metadata": {
    "collapsed": true
   },
   "outputs": [],
   "source": [
    "%matplotlib inline\n",
    "import sys\n",
    "import numpy as np\n",
    "import pandas as pd\n",
    "import matplotlib.pyplot as plt\n",
    "import math\n",
    "import os"
   ]
  },
  {
   "cell_type": "code",
   "execution_count": 22,
   "metadata": {
    "collapsed": true
   },
   "outputs": [],
   "source": [
    "data_path = r'/Users/alexandraszenti/Documents/GitHub Projects/ARRBHack-2018/_data'"
   ]
  },
  {
   "cell_type": "code",
   "execution_count": 23,
   "metadata": {
    "collapsed": true
   },
   "outputs": [],
   "source": [
    "df = pd.read_csv(os.path.join(data_path,'roadcasualties.csv'))"
   ]
  },
  {
   "cell_type": "code",
   "execution_count": 24,
   "metadata": {},
   "outputs": [
    {
     "data": {
      "text/html": [
       "<div>\n",
       "<style>\n",
       "    .dataframe thead tr:only-child th {\n",
       "        text-align: right;\n",
       "    }\n",
       "\n",
       "    .dataframe thead th {\n",
       "        text-align: left;\n",
       "    }\n",
       "\n",
       "    .dataframe tbody tr th {\n",
       "        vertical-align: top;\n",
       "    }\n",
       "</style>\n",
       "<table border=\"1\" class=\"dataframe\">\n",
       "  <thead>\n",
       "    <tr style=\"text-align: right;\">\n",
       "      <th></th>\n",
       "      <th>Crash_Year</th>\n",
       "      <th>Crash_Police_Region</th>\n",
       "      <th>Casualty_Severity</th>\n",
       "      <th>Casualty_AgeGroup</th>\n",
       "      <th>Casualty_Gender</th>\n",
       "      <th>Casualty_RoadUserType</th>\n",
       "      <th>Casualty_Count</th>\n",
       "    </tr>\n",
       "  </thead>\n",
       "  <tbody>\n",
       "    <tr>\n",
       "      <th>0</th>\n",
       "      <td>2001</td>\n",
       "      <td>Central</td>\n",
       "      <td>Fatality</td>\n",
       "      <td>0 to 16</td>\n",
       "      <td>Male</td>\n",
       "      <td>Bicyclist</td>\n",
       "      <td>1</td>\n",
       "    </tr>\n",
       "    <tr>\n",
       "      <th>1</th>\n",
       "      <td>2001</td>\n",
       "      <td>Central</td>\n",
       "      <td>Fatality</td>\n",
       "      <td>0 to 16</td>\n",
       "      <td>Male</td>\n",
       "      <td>Passenger</td>\n",
       "      <td>3</td>\n",
       "    </tr>\n",
       "    <tr>\n",
       "      <th>2</th>\n",
       "      <td>2001</td>\n",
       "      <td>Central</td>\n",
       "      <td>Fatality</td>\n",
       "      <td>0 to 16</td>\n",
       "      <td>Male</td>\n",
       "      <td>Pedestrian</td>\n",
       "      <td>1</td>\n",
       "    </tr>\n",
       "    <tr>\n",
       "      <th>3</th>\n",
       "      <td>2001</td>\n",
       "      <td>Central</td>\n",
       "      <td>Fatality</td>\n",
       "      <td>0 to 16</td>\n",
       "      <td>Female</td>\n",
       "      <td>Passenger</td>\n",
       "      <td>1</td>\n",
       "    </tr>\n",
       "    <tr>\n",
       "      <th>4</th>\n",
       "      <td>2001</td>\n",
       "      <td>Central</td>\n",
       "      <td>Fatality</td>\n",
       "      <td>17 to 24</td>\n",
       "      <td>Male</td>\n",
       "      <td>Driver</td>\n",
       "      <td>12</td>\n",
       "    </tr>\n",
       "  </tbody>\n",
       "</table>\n",
       "</div>"
      ],
      "text/plain": [
       "   Crash_Year Crash_Police_Region Casualty_Severity Casualty_AgeGroup  \\\n",
       "0        2001             Central          Fatality           0 to 16   \n",
       "1        2001             Central          Fatality           0 to 16   \n",
       "2        2001             Central          Fatality           0 to 16   \n",
       "3        2001             Central          Fatality           0 to 16   \n",
       "4        2001             Central          Fatality          17 to 24   \n",
       "\n",
       "  Casualty_Gender Casualty_RoadUserType  Casualty_Count  \n",
       "0            Male             Bicyclist               1  \n",
       "1            Male             Passenger               3  \n",
       "2            Male            Pedestrian               1  \n",
       "3          Female             Passenger               1  \n",
       "4            Male                Driver              12  "
      ]
     },
     "execution_count": 24,
     "metadata": {},
     "output_type": "execute_result"
    }
   ],
   "source": [
    "df.head()"
   ]
  },
  {
   "cell_type": "code",
   "execution_count": 25,
   "metadata": {
    "collapsed": true
   },
   "outputs": [],
   "source": [
    "cyclists = df[df.Casualty_RoadUserType == 'Bicyclist']"
   ]
  },
  {
   "cell_type": "code",
   "execution_count": 26,
   "metadata": {},
   "outputs": [
    {
     "data": {
      "text/html": [
       "<div>\n",
       "<style>\n",
       "    .dataframe thead tr:only-child th {\n",
       "        text-align: right;\n",
       "    }\n",
       "\n",
       "    .dataframe thead th {\n",
       "        text-align: left;\n",
       "    }\n",
       "\n",
       "    .dataframe tbody tr th {\n",
       "        vertical-align: top;\n",
       "    }\n",
       "</style>\n",
       "<table border=\"1\" class=\"dataframe\">\n",
       "  <thead>\n",
       "    <tr style=\"text-align: right;\">\n",
       "      <th></th>\n",
       "      <th>Crash_Year</th>\n",
       "      <th>Crash_Police_Region</th>\n",
       "      <th>Casualty_Severity</th>\n",
       "      <th>Casualty_AgeGroup</th>\n",
       "      <th>Casualty_Gender</th>\n",
       "      <th>Casualty_RoadUserType</th>\n",
       "      <th>Casualty_Count</th>\n",
       "    </tr>\n",
       "  </thead>\n",
       "  <tbody>\n",
       "    <tr>\n",
       "      <th>0</th>\n",
       "      <td>2001</td>\n",
       "      <td>Central</td>\n",
       "      <td>Fatality</td>\n",
       "      <td>0 to 16</td>\n",
       "      <td>Male</td>\n",
       "      <td>Bicyclist</td>\n",
       "      <td>1</td>\n",
       "    </tr>\n",
       "    <tr>\n",
       "      <th>14</th>\n",
       "      <td>2001</td>\n",
       "      <td>Central</td>\n",
       "      <td>Fatality</td>\n",
       "      <td>30 to 39</td>\n",
       "      <td>Male</td>\n",
       "      <td>Bicyclist</td>\n",
       "      <td>1</td>\n",
       "    </tr>\n",
       "    <tr>\n",
       "      <th>19</th>\n",
       "      <td>2001</td>\n",
       "      <td>Central</td>\n",
       "      <td>Fatality</td>\n",
       "      <td>40 to 49</td>\n",
       "      <td>Male</td>\n",
       "      <td>Bicyclist</td>\n",
       "      <td>2</td>\n",
       "    </tr>\n",
       "    <tr>\n",
       "      <th>36</th>\n",
       "      <td>2001</td>\n",
       "      <td>Central</td>\n",
       "      <td>Fatality</td>\n",
       "      <td>75 and over</td>\n",
       "      <td>Male</td>\n",
       "      <td>Bicyclist</td>\n",
       "      <td>1</td>\n",
       "    </tr>\n",
       "    <tr>\n",
       "      <th>42</th>\n",
       "      <td>2001</td>\n",
       "      <td>Central</td>\n",
       "      <td>Hospitalised</td>\n",
       "      <td>0 to 16</td>\n",
       "      <td>Male</td>\n",
       "      <td>Bicyclist</td>\n",
       "      <td>20</td>\n",
       "    </tr>\n",
       "  </tbody>\n",
       "</table>\n",
       "</div>"
      ],
      "text/plain": [
       "    Crash_Year Crash_Police_Region Casualty_Severity Casualty_AgeGroup  \\\n",
       "0         2001             Central          Fatality           0 to 16   \n",
       "14        2001             Central          Fatality          30 to 39   \n",
       "19        2001             Central          Fatality          40 to 49   \n",
       "36        2001             Central          Fatality       75 and over   \n",
       "42        2001             Central      Hospitalised           0 to 16   \n",
       "\n",
       "   Casualty_Gender Casualty_RoadUserType  Casualty_Count  \n",
       "0             Male             Bicyclist               1  \n",
       "14            Male             Bicyclist               1  \n",
       "19            Male             Bicyclist               2  \n",
       "36            Male             Bicyclist               1  \n",
       "42            Male             Bicyclist              20  "
      ]
     },
     "execution_count": 26,
     "metadata": {},
     "output_type": "execute_result"
    }
   ],
   "source": [
    "cyclists.head()"
   ]
  },
  {
   "cell_type": "code",
   "execution_count": 27,
   "metadata": {},
   "outputs": [
    {
     "data": {
      "text/plain": [
       "0 to 16        453\n",
       "17 to 24       429\n",
       "30 to 39       419\n",
       "40 to 49       418\n",
       "25 to 29       371\n",
       "50 to 59       369\n",
       "60 to 74       308\n",
       "75 and over    113\n",
       "Unknown         79\n",
       "Name: Casualty_AgeGroup, dtype: int64"
      ]
     },
     "execution_count": 27,
     "metadata": {},
     "output_type": "execute_result"
    }
   ],
   "source": [
    "cyclists.Casualty_AgeGroup.value_counts()"
   ]
  },
  {
   "cell_type": "code",
   "execution_count": 28,
   "metadata": {},
   "outputs": [
    {
     "data": {
      "text/plain": [
       "Medically treated    1054\n",
       "Hospitalised         1005\n",
       "Minor injury          780\n",
       "Fatality              120\n",
       "Name: Casualty_Severity, dtype: int64"
      ]
     },
     "execution_count": 28,
     "metadata": {},
     "output_type": "execute_result"
    }
   ],
   "source": [
    "cyclists.Casualty_Severity.value_counts()"
   ]
  },
  {
   "cell_type": "code",
   "execution_count": 29,
   "metadata": {},
   "outputs": [
    {
     "name": "stdout",
     "output_type": "stream",
     "text": [
      "0.3801960121662724\n"
     ]
    }
   ],
   "source": [
    "print(1125/2959)"
   ]
  },
  {
   "cell_type": "code",
   "execution_count": 30,
   "metadata": {},
   "outputs": [
    {
     "data": {
      "text/html": [
       "<div>\n",
       "<style>\n",
       "    .dataframe thead tr:only-child th {\n",
       "        text-align: right;\n",
       "    }\n",
       "\n",
       "    .dataframe thead th {\n",
       "        text-align: left;\n",
       "    }\n",
       "\n",
       "    .dataframe tbody tr th {\n",
       "        vertical-align: top;\n",
       "    }\n",
       "</style>\n",
       "<table border=\"1\" class=\"dataframe\">\n",
       "  <thead>\n",
       "    <tr style=\"text-align: right;\">\n",
       "      <th></th>\n",
       "      <th>Crash_Year</th>\n",
       "      <th>Crash_Police_Region</th>\n",
       "      <th>Casualty_Severity</th>\n",
       "      <th>Casualty_AgeGroup</th>\n",
       "      <th>Casualty_Gender</th>\n",
       "      <th>Casualty_RoadUserType</th>\n",
       "      <th>Casualty_Count</th>\n",
       "    </tr>\n",
       "  </thead>\n",
       "  <tbody>\n",
       "    <tr>\n",
       "      <th>0</th>\n",
       "      <td>2001</td>\n",
       "      <td>Central</td>\n",
       "      <td>Fatality</td>\n",
       "      <td>0 to 16</td>\n",
       "      <td>Male</td>\n",
       "      <td>Bicyclist</td>\n",
       "      <td>1</td>\n",
       "    </tr>\n",
       "    <tr>\n",
       "      <th>14</th>\n",
       "      <td>2001</td>\n",
       "      <td>Central</td>\n",
       "      <td>Fatality</td>\n",
       "      <td>30 to 39</td>\n",
       "      <td>Male</td>\n",
       "      <td>Bicyclist</td>\n",
       "      <td>1</td>\n",
       "    </tr>\n",
       "    <tr>\n",
       "      <th>19</th>\n",
       "      <td>2001</td>\n",
       "      <td>Central</td>\n",
       "      <td>Fatality</td>\n",
       "      <td>40 to 49</td>\n",
       "      <td>Male</td>\n",
       "      <td>Bicyclist</td>\n",
       "      <td>2</td>\n",
       "    </tr>\n",
       "    <tr>\n",
       "      <th>36</th>\n",
       "      <td>2001</td>\n",
       "      <td>Central</td>\n",
       "      <td>Fatality</td>\n",
       "      <td>75 and over</td>\n",
       "      <td>Male</td>\n",
       "      <td>Bicyclist</td>\n",
       "      <td>1</td>\n",
       "    </tr>\n",
       "    <tr>\n",
       "      <th>42</th>\n",
       "      <td>2001</td>\n",
       "      <td>Central</td>\n",
       "      <td>Hospitalised</td>\n",
       "      <td>0 to 16</td>\n",
       "      <td>Male</td>\n",
       "      <td>Bicyclist</td>\n",
       "      <td>20</td>\n",
       "    </tr>\n",
       "  </tbody>\n",
       "</table>\n",
       "</div>"
      ],
      "text/plain": [
       "    Crash_Year Crash_Police_Region Casualty_Severity Casualty_AgeGroup  \\\n",
       "0         2001             Central          Fatality           0 to 16   \n",
       "14        2001             Central          Fatality          30 to 39   \n",
       "19        2001             Central          Fatality          40 to 49   \n",
       "36        2001             Central          Fatality       75 and over   \n",
       "42        2001             Central      Hospitalised           0 to 16   \n",
       "\n",
       "   Casualty_Gender Casualty_RoadUserType  Casualty_Count  \n",
       "0             Male             Bicyclist               1  \n",
       "14            Male             Bicyclist               1  \n",
       "19            Male             Bicyclist               2  \n",
       "36            Male             Bicyclist               1  \n",
       "42            Male             Bicyclist              20  "
      ]
     },
     "execution_count": 30,
     "metadata": {},
     "output_type": "execute_result"
    }
   ],
   "source": [
    "cyclists.head()\n"
   ]
  },
  {
   "cell_type": "code",
   "execution_count": 31,
   "metadata": {},
   "outputs": [],
   "source": [
    "fatal = cyclists['Casualty_Severity'] != 'Minor injury'\n",
    "hospitalised = cyclists['Casualty_Severity'] != 'Medically treated'\n",
    "cyclists = cyclists[fatal & hospitalised]"
   ]
  },
  {
   "cell_type": "code",
   "execution_count": 32,
   "metadata": {},
   "outputs": [
    {
     "data": {
      "text/html": [
       "<div>\n",
       "<style>\n",
       "    .dataframe thead tr:only-child th {\n",
       "        text-align: right;\n",
       "    }\n",
       "\n",
       "    .dataframe thead th {\n",
       "        text-align: left;\n",
       "    }\n",
       "\n",
       "    .dataframe tbody tr th {\n",
       "        vertical-align: top;\n",
       "    }\n",
       "</style>\n",
       "<table border=\"1\" class=\"dataframe\">\n",
       "  <thead>\n",
       "    <tr style=\"text-align: right;\">\n",
       "      <th></th>\n",
       "      <th>Crash_Year</th>\n",
       "      <th>Crash_Police_Region</th>\n",
       "      <th>Casualty_Severity</th>\n",
       "      <th>Casualty_AgeGroup</th>\n",
       "      <th>Casualty_Gender</th>\n",
       "      <th>Casualty_RoadUserType</th>\n",
       "      <th>Casualty_Count</th>\n",
       "    </tr>\n",
       "  </thead>\n",
       "  <tbody>\n",
       "    <tr>\n",
       "      <th>0</th>\n",
       "      <td>2001</td>\n",
       "      <td>Central</td>\n",
       "      <td>Fatality</td>\n",
       "      <td>0 to 16</td>\n",
       "      <td>Male</td>\n",
       "      <td>Bicyclist</td>\n",
       "      <td>1</td>\n",
       "    </tr>\n",
       "    <tr>\n",
       "      <th>14</th>\n",
       "      <td>2001</td>\n",
       "      <td>Central</td>\n",
       "      <td>Fatality</td>\n",
       "      <td>30 to 39</td>\n",
       "      <td>Male</td>\n",
       "      <td>Bicyclist</td>\n",
       "      <td>1</td>\n",
       "    </tr>\n",
       "    <tr>\n",
       "      <th>19</th>\n",
       "      <td>2001</td>\n",
       "      <td>Central</td>\n",
       "      <td>Fatality</td>\n",
       "      <td>40 to 49</td>\n",
       "      <td>Male</td>\n",
       "      <td>Bicyclist</td>\n",
       "      <td>2</td>\n",
       "    </tr>\n",
       "    <tr>\n",
       "      <th>36</th>\n",
       "      <td>2001</td>\n",
       "      <td>Central</td>\n",
       "      <td>Fatality</td>\n",
       "      <td>75 and over</td>\n",
       "      <td>Male</td>\n",
       "      <td>Bicyclist</td>\n",
       "      <td>1</td>\n",
       "    </tr>\n",
       "    <tr>\n",
       "      <th>42</th>\n",
       "      <td>2001</td>\n",
       "      <td>Central</td>\n",
       "      <td>Hospitalised</td>\n",
       "      <td>0 to 16</td>\n",
       "      <td>Male</td>\n",
       "      <td>Bicyclist</td>\n",
       "      <td>20</td>\n",
       "    </tr>\n",
       "  </tbody>\n",
       "</table>\n",
       "</div>"
      ],
      "text/plain": [
       "    Crash_Year Crash_Police_Region Casualty_Severity Casualty_AgeGroup  \\\n",
       "0         2001             Central          Fatality           0 to 16   \n",
       "14        2001             Central          Fatality          30 to 39   \n",
       "19        2001             Central          Fatality          40 to 49   \n",
       "36        2001             Central          Fatality       75 and over   \n",
       "42        2001             Central      Hospitalised           0 to 16   \n",
       "\n",
       "   Casualty_Gender Casualty_RoadUserType  Casualty_Count  \n",
       "0             Male             Bicyclist               1  \n",
       "14            Male             Bicyclist               1  \n",
       "19            Male             Bicyclist               2  \n",
       "36            Male             Bicyclist               1  \n",
       "42            Male             Bicyclist              20  "
      ]
     },
     "execution_count": 32,
     "metadata": {},
     "output_type": "execute_result"
    }
   ],
   "source": [
    "cyclists.head()"
   ]
  },
  {
   "cell_type": "code",
   "execution_count": 33,
   "metadata": {},
   "outputs": [
    {
     "data": {
      "text/plain": [
       "0 to 16        167\n",
       "40 to 49       166\n",
       "17 to 24       155\n",
       "30 to 39       154\n",
       "50 to 59       150\n",
       "25 to 29       135\n",
       "60 to 74       127\n",
       "75 and over     65\n",
       "Unknown          6\n",
       "Name: Casualty_AgeGroup, dtype: int64"
      ]
     },
     "execution_count": 33,
     "metadata": {},
     "output_type": "execute_result"
    }
   ],
   "source": [
    "cyclists.Casualty_AgeGroup.value_counts()"
   ]
  },
  {
   "cell_type": "code",
   "execution_count": null,
   "metadata": {
    "collapsed": true
   },
   "outputs": [],
   "source": []
  }
 ],
 "metadata": {
  "kernelspec": {
   "display_name": "Python 3",
   "language": "python",
   "name": "python3"
  },
  "language_info": {
   "codemirror_mode": {
    "name": "ipython",
    "version": 3
   },
   "file_extension": ".py",
   "mimetype": "text/x-python",
   "name": "python",
   "nbconvert_exporter": "python",
   "pygments_lexer": "ipython3",
   "version": "3.6.3"
  }
 },
 "nbformat": 4,
 "nbformat_minor": 2
}
