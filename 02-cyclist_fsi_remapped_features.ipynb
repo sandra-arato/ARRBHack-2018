{
 "cells": [
  {
   "cell_type": "code",
   "execution_count": 1,
   "metadata": {},
   "outputs": [],
   "source": [
    "%matplotlib inline\n",
    "import sys\n",
    "import numpy as np\n",
    "import pandas as pd\n",
    "import matplotlib.pyplot as plt\n",
    "import math\n",
    "import os\n",
    "from sklearn.utils import shuffle"
   ]
  },
  {
   "cell_type": "code",
   "execution_count": 2,
   "metadata": {},
   "outputs": [],
   "source": [
    "data_path = r'/Users/petike/Documents/www/sandra-arato/ARRBHack-2018/_data'"
   ]
  },
  {
   "cell_type": "code",
   "execution_count": 3,
   "metadata": {},
   "outputs": [],
   "source": [
    "df = pd.read_csv(os.path.join(data_path,'cyclist_fsi_shuffled.csv'))"
   ]
  },
  {
   "cell_type": "code",
   "execution_count": 4,
   "metadata": {},
   "outputs": [
    {
     "data": {
      "text/plain": [
       "Index(['Crash_Month', 'Crash_Day_Of_Week', 'Crash_Hour',\n",
       "       'Crash_Longitude_GDA94', 'Crash_Latitude_GDA94', 'Loc_Suburb',\n",
       "       'Crash_Roadway_Feature', 'Crash_Traffic_Control', 'Crash_Speed_Limit',\n",
       "       'Crash_Road_Surface_Condition', 'Crash_Atmospheric_Condition',\n",
       "       'Crash_Lighting_Condition', 'Crash_Road_Horiz_Align',\n",
       "       'Crash_Road_Vert_Align', 'Cyclist_FSI'],\n",
       "      dtype='object')"
      ]
     },
     "execution_count": 4,
     "metadata": {},
     "output_type": "execute_result"
    }
   ],
   "source": [
    "df.columns"
   ]
  },
  {
   "cell_type": "code",
   "execution_count": 8,
   "metadata": {},
   "outputs": [],
   "source": [
    "df['isWeekday'] = df.apply(lambda row: (row.Crash_Day_Of_Week in ['Saturday', 'Sunday']), axis=1)"
   ]
  },
  {
   "cell_type": "code",
   "execution_count": 10,
   "metadata": {},
   "outputs": [],
   "source": [
    "df['isCitySpeed'] = df.apply(lambda row: (row.Crash_Speed_Limit in ['60 km/h', '0 - 50 km/h']), axis=1)"
   ]
  },
  {
   "cell_type": "code",
   "execution_count": 17,
   "metadata": {},
   "outputs": [],
   "source": [
    "df['isIntersection'] = df.apply(lambda row: ('Intersection' in row.Crash_Roadway_Feature), axis=1)"
   ]
  },
  {
   "cell_type": "code",
   "execution_count": 26,
   "metadata": {},
   "outputs": [],
   "source": [
    "df['Crash_Lighting_Condition']\n",
    "    = df['Crash_Lighting_Condition'].replace(['Darkness - Lighted', 'Darkness - Not lighted'], 'Darkness')"
   ]
  },
  {
   "cell_type": "code",
   "execution_count": null,
   "metadata": {},
   "outputs": [],
   "source": []
  },
  {
   "cell_type": "code",
   "execution_count": 27,
   "metadata": {},
   "outputs": [],
   "source": [
    "shuffle(df).to_csv(os.path.join(data_path,'cyclist_fsi_remapped_features.csv'),\n",
    "                          index=False,\n",
    "                         columns=['Crash_Month', 'Crash_Day_Of_Week', 'Crash_Hour',\n",
    "                                 'Crash_Longitude_GDA94', 'Crash_Latitude_GDA94',\n",
    "                                 'Loc_Suburb',\n",
    "#                                  'Crash_Roadway_Feature',\n",
    "#                                  'Crash_Traffic_Control', 'Crash_Speed_Limit',\n",
    "                                 'Crash_Road_Surface_Condition', 'Crash_Atmospheric_Condition',\n",
    "                                 'Crash_Lighting_Condition', 'Crash_Road_Horiz_Align', 'Crash_Road_Vert_Align',\n",
    "                                 'Cyclist_FSI',\n",
    "                                 'isWeekday', 'isCitySpeed', 'isIntersection'\n",
    "                                 ])"
   ]
  },
  {
   "cell_type": "code",
   "execution_count": null,
   "metadata": {},
   "outputs": [],
   "source": []
  }
 ],
 "metadata": {
  "kernelspec": {
   "display_name": "Python 3",
   "language": "python",
   "name": "python3"
  },
  "language_info": {
   "codemirror_mode": {
    "name": "ipython",
    "version": 3
   },
   "file_extension": ".py",
   "mimetype": "text/x-python",
   "name": "python",
   "nbconvert_exporter": "python",
   "pygments_lexer": "ipython3",
   "version": "3.6.4"
  }
 },
 "nbformat": 4,
 "nbformat_minor": 2
}
