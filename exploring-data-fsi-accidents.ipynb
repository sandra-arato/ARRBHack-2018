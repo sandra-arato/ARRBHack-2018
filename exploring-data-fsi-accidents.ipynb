{
 "cells": [
  {
   "cell_type": "markdown",
   "metadata": {},
   "source": [
    "## Enhancing road safety on Queensland roads\n",
    "\n",
    "Based on historical data, we could predict the most dangerous roads for accidents based on road quality and other features that affect the probability of accidents.\n",
    "\n",
    "The following questions came up while ideating over the safety theme at the hackathon:\n",
    "* Given a location and date, what’s the expected number of accidents? \n",
    "* Which of the Brisbane Bike Week locations will be a hotspot for accidents?\n",
    "* Which locations are outliers in the historical data? Or, are there any trends?\n",
    "* Where does the road quality cause more accidents? Can we predict areas where road quality is a major factor in accidents?\n",
    "\n"
   ]
  },
  {
   "cell_type": "code",
   "execution_count": 24,
   "metadata": {
    "collapsed": true
   },
   "outputs": [],
   "source": [
    "%matplotlib inline\n",
    "import sys\n",
    "import numpy as np\n",
    "import pandas as pd\n",
    "import matplotlib.pyplot as plt\n",
    "import math\n",
    "import os\n",
    "from sklearn.utils import shuffle"
   ]
  },
  {
   "cell_type": "code",
   "execution_count": 2,
   "metadata": {
    "collapsed": true
   },
   "outputs": [],
   "source": [
    "data_path = r'/Users/alexandraszenti/Documents/GitHub Projects/ARRBHack-2018/_data'"
   ]
  },
  {
   "cell_type": "code",
   "execution_count": 3,
   "metadata": {
    "collapsed": true
   },
   "outputs": [],
   "source": [
    "df = pd.read_csv(os.path.join(data_path,'road_crash_locations.csv'))"
   ]
  },
  {
   "cell_type": "code",
   "execution_count": 4,
   "metadata": {},
   "outputs": [
    {
     "data": {
      "text/html": [
       "<div>\n",
       "<style>\n",
       "    .dataframe thead tr:only-child th {\n",
       "        text-align: right;\n",
       "    }\n",
       "\n",
       "    .dataframe thead th {\n",
       "        text-align: left;\n",
       "    }\n",
       "\n",
       "    .dataframe tbody tr th {\n",
       "        vertical-align: top;\n",
       "    }\n",
       "</style>\n",
       "<table border=\"1\" class=\"dataframe\">\n",
       "  <thead>\n",
       "    <tr style=\"text-align: right;\">\n",
       "      <th></th>\n",
       "      <th>Crash_Ref_Number</th>\n",
       "      <th>Crash_Severity</th>\n",
       "      <th>Crash_Year</th>\n",
       "      <th>Crash_Month</th>\n",
       "      <th>Crash_Day_Of_Week</th>\n",
       "      <th>Crash_Hour</th>\n",
       "      <th>Crash_Nature</th>\n",
       "      <th>Crash_Type</th>\n",
       "      <th>Crash_Longitude_GDA94</th>\n",
       "      <th>Crash_Latitude_GDA94</th>\n",
       "      <th>...</th>\n",
       "      <th>Count_Casualty_MedicallyTreated</th>\n",
       "      <th>Count_Casualty_MinorInjury</th>\n",
       "      <th>Count_Casualty_Total</th>\n",
       "      <th>Count_Unit_Car</th>\n",
       "      <th>Count_Unit_Motorcycle_Moped</th>\n",
       "      <th>Count_Unit_Truck</th>\n",
       "      <th>Count_Unit_Bus</th>\n",
       "      <th>Count_Unit_Bicycle</th>\n",
       "      <th>Count_Unit_Pedestrian</th>\n",
       "      <th>Count_Unit_Other</th>\n",
       "    </tr>\n",
       "  </thead>\n",
       "  <tbody>\n",
       "    <tr>\n",
       "      <th>0</th>\n",
       "      <td>1</td>\n",
       "      <td>Property damage only</td>\n",
       "      <td>2001</td>\n",
       "      <td>January</td>\n",
       "      <td>Monday</td>\n",
       "      <td>22</td>\n",
       "      <td>Hit object</td>\n",
       "      <td>Single Vehicle</td>\n",
       "      <td>153.028793</td>\n",
       "      <td>-27.449659</td>\n",
       "      <td>...</td>\n",
       "      <td>0</td>\n",
       "      <td>0</td>\n",
       "      <td>0</td>\n",
       "      <td>0.0</td>\n",
       "      <td>0.0</td>\n",
       "      <td>1.0</td>\n",
       "      <td>0.0</td>\n",
       "      <td>0.0</td>\n",
       "      <td>0.0</td>\n",
       "      <td>0.0</td>\n",
       "    </tr>\n",
       "    <tr>\n",
       "      <th>1</th>\n",
       "      <td>2</td>\n",
       "      <td>Property damage only</td>\n",
       "      <td>2001</td>\n",
       "      <td>January</td>\n",
       "      <td>Monday</td>\n",
       "      <td>2</td>\n",
       "      <td>Overturned</td>\n",
       "      <td>Single Vehicle</td>\n",
       "      <td>152.966657</td>\n",
       "      <td>-27.049444</td>\n",
       "      <td>...</td>\n",
       "      <td>0</td>\n",
       "      <td>0</td>\n",
       "      <td>0</td>\n",
       "      <td>1.0</td>\n",
       "      <td>0.0</td>\n",
       "      <td>0.0</td>\n",
       "      <td>0.0</td>\n",
       "      <td>0.0</td>\n",
       "      <td>0.0</td>\n",
       "      <td>0.0</td>\n",
       "    </tr>\n",
       "    <tr>\n",
       "      <th>2</th>\n",
       "      <td>3</td>\n",
       "      <td>Medical treatment</td>\n",
       "      <td>2001</td>\n",
       "      <td>January</td>\n",
       "      <td>Monday</td>\n",
       "      <td>14</td>\n",
       "      <td>Rear-end</td>\n",
       "      <td>Multi-Vehicle</td>\n",
       "      <td>152.821788</td>\n",
       "      <td>-27.573498</td>\n",
       "      <td>...</td>\n",
       "      <td>1</td>\n",
       "      <td>0</td>\n",
       "      <td>1</td>\n",
       "      <td>2.0</td>\n",
       "      <td>0.0</td>\n",
       "      <td>0.0</td>\n",
       "      <td>0.0</td>\n",
       "      <td>0.0</td>\n",
       "      <td>0.0</td>\n",
       "      <td>0.0</td>\n",
       "    </tr>\n",
       "    <tr>\n",
       "      <th>3</th>\n",
       "      <td>4</td>\n",
       "      <td>Minor injury</td>\n",
       "      <td>2001</td>\n",
       "      <td>January</td>\n",
       "      <td>Monday</td>\n",
       "      <td>0</td>\n",
       "      <td>Hit object</td>\n",
       "      <td>Single Vehicle</td>\n",
       "      <td>152.974398</td>\n",
       "      <td>-27.225505</td>\n",
       "      <td>...</td>\n",
       "      <td>0</td>\n",
       "      <td>1</td>\n",
       "      <td>1</td>\n",
       "      <td>1.0</td>\n",
       "      <td>0.0</td>\n",
       "      <td>0.0</td>\n",
       "      <td>0.0</td>\n",
       "      <td>0.0</td>\n",
       "      <td>0.0</td>\n",
       "      <td>0.0</td>\n",
       "    </tr>\n",
       "    <tr>\n",
       "      <th>4</th>\n",
       "      <td>5</td>\n",
       "      <td>Medical treatment</td>\n",
       "      <td>2001</td>\n",
       "      <td>January</td>\n",
       "      <td>Monday</td>\n",
       "      <td>15</td>\n",
       "      <td>Angle</td>\n",
       "      <td>Multi-Vehicle</td>\n",
       "      <td>153.002385</td>\n",
       "      <td>-27.248969</td>\n",
       "      <td>...</td>\n",
       "      <td>1</td>\n",
       "      <td>0</td>\n",
       "      <td>1</td>\n",
       "      <td>3.0</td>\n",
       "      <td>0.0</td>\n",
       "      <td>0.0</td>\n",
       "      <td>0.0</td>\n",
       "      <td>0.0</td>\n",
       "      <td>0.0</td>\n",
       "      <td>0.0</td>\n",
       "    </tr>\n",
       "  </tbody>\n",
       "</table>\n",
       "<p>5 rows × 50 columns</p>\n",
       "</div>"
      ],
      "text/plain": [
       "   Crash_Ref_Number        Crash_Severity  Crash_Year Crash_Month  \\\n",
       "0                 1  Property damage only        2001     January   \n",
       "1                 2  Property damage only        2001     January   \n",
       "2                 3     Medical treatment        2001     January   \n",
       "3                 4          Minor injury        2001     January   \n",
       "4                 5     Medical treatment        2001     January   \n",
       "\n",
       "  Crash_Day_Of_Week  Crash_Hour Crash_Nature      Crash_Type  \\\n",
       "0            Monday          22   Hit object  Single Vehicle   \n",
       "1            Monday           2   Overturned  Single Vehicle   \n",
       "2            Monday          14     Rear-end   Multi-Vehicle   \n",
       "3            Monday           0   Hit object  Single Vehicle   \n",
       "4            Monday          15        Angle   Multi-Vehicle   \n",
       "\n",
       "   Crash_Longitude_GDA94  Crash_Latitude_GDA94       ...         \\\n",
       "0             153.028793            -27.449659       ...          \n",
       "1             152.966657            -27.049444       ...          \n",
       "2             152.821788            -27.573498       ...          \n",
       "3             152.974398            -27.225505       ...          \n",
       "4             153.002385            -27.248969       ...          \n",
       "\n",
       "  Count_Casualty_MedicallyTreated Count_Casualty_MinorInjury  \\\n",
       "0                               0                          0   \n",
       "1                               0                          0   \n",
       "2                               1                          0   \n",
       "3                               0                          1   \n",
       "4                               1                          0   \n",
       "\n",
       "  Count_Casualty_Total Count_Unit_Car Count_Unit_Motorcycle_Moped  \\\n",
       "0                    0            0.0                         0.0   \n",
       "1                    0            1.0                         0.0   \n",
       "2                    1            2.0                         0.0   \n",
       "3                    1            1.0                         0.0   \n",
       "4                    1            3.0                         0.0   \n",
       "\n",
       "  Count_Unit_Truck Count_Unit_Bus Count_Unit_Bicycle Count_Unit_Pedestrian  \\\n",
       "0              1.0            0.0                0.0                   0.0   \n",
       "1              0.0            0.0                0.0                   0.0   \n",
       "2              0.0            0.0                0.0                   0.0   \n",
       "3              0.0            0.0                0.0                   0.0   \n",
       "4              0.0            0.0                0.0                   0.0   \n",
       "\n",
       "  Count_Unit_Other  \n",
       "0              0.0  \n",
       "1              0.0  \n",
       "2              0.0  \n",
       "3              0.0  \n",
       "4              0.0  \n",
       "\n",
       "[5 rows x 50 columns]"
      ]
     },
     "execution_count": 4,
     "metadata": {},
     "output_type": "execute_result"
    }
   ],
   "source": [
    "df.head()"
   ]
  },
  {
   "cell_type": "code",
   "execution_count": 5,
   "metadata": {},
   "outputs": [
    {
     "name": "stdout",
     "output_type": "stream",
     "text": [
      "['Crash_Ref_Number', 'Crash_Severity', 'Crash_Year', 'Crash_Month', 'Crash_Day_Of_Week', 'Crash_Hour', 'Crash_Nature', 'Crash_Type', 'Crash_Longitude_GDA94', 'Crash_Latitude_GDA94', 'Crash_Street', 'Crash_Street_Intersecting', 'Loc_Suburb', 'Loc_Local_Government_Area', 'Loc_Post_Code', 'Loc_Police_Division', 'Loc_Police_District', 'Loc_Police_Region', 'Loc_Queensland_Transport_Region', 'Loc_Main_Roads_Region', 'Loc_ABS_Statistical_Area_2', 'Loc_ABS_Statistical_Area_3', 'Loc_ABS_Statistical_Area_4', 'Loc_ABS_Remoteness', 'Loc_State_Electorate', 'Loc_Federal_Electorate', 'Crash_Controlling_Authority', 'Crash_Roadway_Feature', 'Crash_Traffic_Control', 'Crash_Speed_Limit', 'Crash_Road_Surface_Condition', 'Crash_Atmospheric_Condition', 'Crash_Lighting_Condition', 'Crash_Road_Horiz_Align', 'Crash_Road_Vert_Align', 'Crash_DCA_Code', 'Crash_DCA_Description', 'Crash_DCA_Group_Description', 'Count_Casualty_Fatality', 'Count_Casualty_Hospitalised', 'Count_Casualty_MedicallyTreated', 'Count_Casualty_MinorInjury', 'Count_Casualty_Total', 'Count_Unit_Car', 'Count_Unit_Motorcycle_Moped', 'Count_Unit_Truck', 'Count_Unit_Bus', 'Count_Unit_Bicycle', 'Count_Unit_Pedestrian', 'Count_Unit_Other']\n"
     ]
    }
   ],
   "source": [
    "features =[]\n",
    "for col in df.columns:\n",
    "    features.append(col)\n",
    "print(df.co)"
   ]
  },
  {
   "cell_type": "markdown",
   "metadata": {},
   "source": [
    "## Understanding correlation between features\n",
    "\n",
    "To clean the data and know where to start exploring, we need a better understading of what features are more likely to correlate with FSI accidents and accidents involving cyclists or pedestrians. We first need to see the categorical data representations and convert them to numerical to allow to calculate correlation."
   ]
  },
  {
   "cell_type": "code",
   "execution_count": 6,
   "metadata": {},
   "outputs": [
    {
     "data": {
      "text/plain": [
       "(306558, 50)"
      ]
     },
     "execution_count": 6,
     "metadata": {},
     "output_type": "execute_result"
    }
   ],
   "source": [
    "df.shape"
   ]
  },
  {
   "cell_type": "code",
   "execution_count": 7,
   "metadata": {},
   "outputs": [
    {
     "data": {
      "text/plain": [
       "Medical treatment       90561\n",
       "Property damage only    87448\n",
       "Hospitalisation         83039\n",
       "Minor injury            41088\n",
       "Fatal                    4422\n",
       "Name: Crash_Severity, dtype: int64"
      ]
     },
     "execution_count": 7,
     "metadata": {},
     "output_type": "execute_result"
    }
   ],
   "source": [
    "df['Crash_Severity'].value_counts()"
   ]
  },
  {
   "cell_type": "code",
   "execution_count": 8,
   "metadata": {},
   "outputs": [
    {
     "data": {
      "text/plain": [
       "Friday       51834\n",
       "Thursday     46730\n",
       "Wednesday    44827\n",
       "Saturday     43766\n",
       "Tuesday      43136\n",
       "Monday       41235\n",
       "Sunday       35030\n",
       "Name: Crash_Day_Of_Week, dtype: int64"
      ]
     },
     "execution_count": 8,
     "metadata": {},
     "output_type": "execute_result"
    }
   ],
   "source": [
    "df['Crash_Day_Of_Week'].value_counts()"
   ]
  },
  {
   "cell_type": "code",
   "execution_count": 9,
   "metadata": {},
   "outputs": [
    {
     "data": {
      "text/plain": [
       "Major cities      182963\n",
       "Inner regional     64709\n",
       "Outer regional     47015\n",
       "Remote              6440\n",
       "Very remote         4707\n",
       "Unknown              724\n",
       "Name: Loc_ABS_Remoteness, dtype: int64"
      ]
     },
     "execution_count": 9,
     "metadata": {},
     "output_type": "execute_result"
    }
   ],
   "source": [
    "df['Loc_ABS_Remoteness'].value_counts()"
   ]
  },
  {
   "cell_type": "code",
   "execution_count": 10,
   "metadata": {},
   "outputs": [
    {
     "data": {
      "text/plain": [
       "Sealed - Dry      249775\n",
       "Sealed - Wet       48006\n",
       "Unsealed - Dry      7449\n",
       "Unsealed - Wet      1010\n",
       "Unknown              318\n",
       "Name: Crash_Road_Surface_Condition, dtype: int64"
      ]
     },
     "execution_count": 10,
     "metadata": {},
     "output_type": "execute_result"
    }
   ],
   "source": [
    "df['Crash_Road_Surface_Condition'].value_counts()"
   ]
  },
  {
   "cell_type": "code",
   "execution_count": 11,
   "metadata": {},
   "outputs": [
    {
     "data": {
      "text/plain": [
       "0.0     293897\n",
       "1.0      12200\n",
       "2.0        386\n",
       "3.0         48\n",
       "4.0          7\n",
       "5.0          2\n",
       "20.0         1\n",
       "11.0         1\n",
       "Name: Count_Unit_Pedestrian, dtype: int64"
      ]
     },
     "execution_count": 11,
     "metadata": {},
     "output_type": "execute_result"
    }
   ],
   "source": [
    "df['Count_Unit_Pedestrian'].value_counts()"
   ]
  },
  {
   "cell_type": "code",
   "execution_count": 12,
   "metadata": {},
   "outputs": [
    {
     "data": {
      "text/plain": [
       "Clear         266754\n",
       "Raining        37447\n",
       "Fog             1556\n",
       "Smoke/Dust       582\n",
       "Unknown          219\n",
       "Name: Crash_Atmospheric_Condition, dtype: int64"
      ]
     },
     "execution_count": 12,
     "metadata": {},
     "output_type": "execute_result"
    }
   ],
   "source": [
    "df['Crash_Atmospheric_Condition'].value_counts()"
   ]
  },
  {
   "cell_type": "code",
   "execution_count": 13,
   "metadata": {},
   "outputs": [
    {
     "data": {
      "text/plain": [
       "Daylight                  211803\n",
       "Darkness - Lighted         53200\n",
       "Darkness - Not lighted     23586\n",
       "Dawn/Dusk                  17589\n",
       "Unknown                      380\n",
       "Name: Crash_Lighting_Condition, dtype: int64"
      ]
     },
     "execution_count": 13,
     "metadata": {},
     "output_type": "execute_result"
    }
   ],
   "source": [
    "df['Crash_Lighting_Condition'].value_counts()"
   ]
  },
  {
   "cell_type": "code",
   "execution_count": 14,
   "metadata": {},
   "outputs": [
    {
     "data": {
      "text/plain": [
       "March        27358\n",
       "August       27052\n",
       "July         26578\n",
       "May          26573\n",
       "October      25863\n",
       "June         25668\n",
       "April        25657\n",
       "November     25412\n",
       "September    24786\n",
       "December     24533\n",
       "February     24071\n",
       "January      23007\n",
       "Name: Crash_Month, dtype: int64"
      ]
     },
     "execution_count": 14,
     "metadata": {},
     "output_type": "execute_result"
    }
   ],
   "source": [
    "df['Crash_Month'].value_counts()"
   ]
  },
  {
   "cell_type": "code",
   "execution_count": 15,
   "metadata": {},
   "outputs": [
    {
     "data": {
      "text/plain": [
       "No Roadway Feature              163440\n",
       "Intersection - T-Junction        63561\n",
       "Intersection - Cross             48333\n",
       "Intersection - Roundabout        13952\n",
       "Intersection - Interchange        8269\n",
       "Bridge/Causeway                   4796\n",
       "Median Opening                    1588\n",
       "Merge Lane                         685\n",
       "Intersection - Multiple Road       553\n",
       "Railway Crossing                   531\n",
       "Forestry/National Park Road        383\n",
       "Intersection - Y-Junction          218\n",
       "Bikeway                            105\n",
       "Other                               88\n",
       "Intersection - 5+ way               55\n",
       "Miscellaneous                        1\n",
       "Name: Crash_Roadway_Feature, dtype: int64"
      ]
     },
     "execution_count": 15,
     "metadata": {},
     "output_type": "execute_result"
    }
   ],
   "source": [
    " df['Crash_Roadway_Feature'].value_counts()"
   ]
  },
  {
   "cell_type": "code",
   "execution_count": 16,
   "metadata": {},
   "outputs": [
    {
     "data": {
      "text/plain": [
       "Rear-end                                    70683\n",
       "Intersection from adjacent approaches       45595\n",
       "Off carriageway on straight hit object      30939\n",
       "Opposing vehicles turning                   27925\n",
       "Other                                       25713\n",
       "Off carriageway on curve hit object         21866\n",
       "Vehicle leaving driveway                    11158\n",
       "Pedestrian                                  10506\n",
       "Head-on                                     10074\n",
       "Lane changes                                 9426\n",
       "Hit parked vehicle                           6930\n",
       "Parallel lanes turning                       6928\n",
       "Out of control on straight                   6519\n",
       "Out of control on curve                      6110\n",
       "Off carriageway on straight                  5714\n",
       "Off carriageway on curve                     3616\n",
       "Hit animal                                   2962\n",
       "Overtaking same direction                    1705\n",
       "U-turn                                       1682\n",
       "Hit permanent obstruction on carriageway      260\n",
       "Train                                         247\n",
       "Name: Crash_DCA_Group_Description, dtype: int64"
      ]
     },
     "execution_count": 16,
     "metadata": {},
     "output_type": "execute_result"
    }
   ],
   "source": [
    "df['Crash_DCA_Group_Description'].value_counts()"
   ]
  },
  {
   "cell_type": "markdown",
   "metadata": {},
   "source": [
    "### Cleaning the data to keep relevant features\n",
    "\n",
    "Given the columns availabe, we are going to only keep information for the following:\n",
    "\n",
    "['Crash_Ref_Number', 'Crash_Severity', 'Crash_Month', 'Crash_Day_Of_Week', 'Crash_Hour', 'Crash_Type', 'Crash_Longitude_GDA94', 'Crash_Latitude_GDA94','Loc_Suburb', 'Loc_ABS_Remoteness', 'Crash_Roadway_Feature', 'Crash_Traffic_Control', 'Crash_Speed_Limit', 'Crash_Road_Surface_Condition', 'Crash_Atmospheric_Condition', 'Crash_Lighting_Condition', 'Crash_Road_Horiz_Align', 'Crash_Road_Vert_Align', 'Count_Casualty_Fatality', 'Count_Casualty_Hospitalised', 'Count_Casualty_MedicallyTreated', 'Count_Casualty_MinorInjury', 'Count_Unit_Car', 'Count_Unit_Motorcycle_Moped', 'Count_Unit_Truck', 'Count_Unit_Bus', 'Count_Unit_Bicycle', 'Count_Unit_Pedestrian', 'Count_Unit_Other']\n",
    "\n",
    "We will also need to remove those items where any of the values above is unknown.\n",
    "\n"
   ]
  },
  {
   "cell_type": "code",
   "execution_count": 17,
   "metadata": {},
   "outputs": [
    {
     "data": {
      "text/plain": [
       "Crash_Ref_Number                       1\n",
       "Crash_Severity      Property damage only\n",
       "Name: 0, dtype: object"
      ]
     },
     "execution_count": 17,
     "metadata": {},
     "output_type": "execute_result"
    }
   ],
   "source": [
    "df.loc[0, ['Crash_Ref_Number', 'Crash_Severity']]"
   ]
  },
  {
   "cell_type": "code",
   "execution_count": 18,
   "metadata": {},
   "outputs": [
    {
     "data": {
      "text/plain": [
       "(306558, 50)"
      ]
     },
     "execution_count": 18,
     "metadata": {},
     "output_type": "execute_result"
    }
   ],
   "source": [
    "df.shape"
   ]
  },
  {
   "cell_type": "code",
   "execution_count": 19,
   "metadata": {
    "collapsed": true
   },
   "outputs": [],
   "source": [
    "df[df.index < 200].to_csv(os.path.join(data_path,'cleaned_crash_locations_100.csv'),\n",
    "                          index=False,\n",
    "                         columns=['Crash_Severity', 'Crash_Month', 'Crash_Day_Of_Week', 'Crash_Hour','Loc_Suburb', 'Loc_ABS_Remoteness', 'Crash_Roadway_Feature', 'Crash_Traffic_Control', 'Crash_Speed_Limit', 'Crash_Road_Surface_Condition', 'Crash_Atmospheric_Condition', 'Crash_Lighting_Condition', 'Crash_Road_Horiz_Align', 'Crash_Road_Vert_Align', 'Count_Casualty_Fatality', 'Count_Casualty_Hospitalised', 'Count_Casualty_MedicallyTreated', 'Count_Casualty_MinorInjury', 'Count_Unit_Car', 'Count_Unit_Motorcycle_Moped', 'Count_Unit_Truck', 'Count_Unit_Bus', 'Count_Unit_Bicycle', 'Count_Unit_Pedestrian', 'Count_Unit_Other'])"
   ]
  },
  {
   "cell_type": "code",
   "execution_count": 20,
   "metadata": {
    "collapsed": true
   },
   "outputs": [],
   "source": [
    "df.to_csv(os.path.join(data_path,'cleaned_crash_locations_all.csv'),\n",
    "                          index=False,\n",
    "                         columns=['Crash_Severity', 'Crash_Month', 'Crash_Day_Of_Week', 'Crash_Hour','Loc_Suburb', 'Loc_ABS_Remoteness', 'Crash_Roadway_Feature', 'Crash_Traffic_Control', 'Crash_Speed_Limit', 'Crash_Road_Surface_Condition', 'Crash_Atmospheric_Condition', 'Crash_Lighting_Condition', 'Crash_Road_Horiz_Align', 'Crash_Road_Vert_Align', 'Count_Casualty_Fatality', 'Count_Casualty_Hospitalised', 'Count_Casualty_MedicallyTreated', 'Count_Casualty_MinorInjury', 'Count_Unit_Car', 'Count_Unit_Motorcycle_Moped', 'Count_Unit_Truck', 'Count_Unit_Bus', 'Count_Unit_Bicycle', 'Count_Unit_Pedestrian', 'Count_Unit_Other'])"
   ]
  },
  {
   "cell_type": "code",
   "execution_count": 21,
   "metadata": {
    "collapsed": true
   },
   "outputs": [],
   "source": [
    "df.to_csv(os.path.join(data_path,'cleaned_crash_locations_cyclists.csv'),\n",
    "                          index=False,\n",
    "                         columns=['Crash_Severity', 'Crash_Month', 'Crash_Day_Of_Week', 'Crash_Hour','Loc_Suburb', 'Loc_ABS_Remoteness', 'Crash_Longitude_GDA94', 'Crash_Latitude_GDA94','Crash_Roadway_Feature', 'Crash_Speed_Limit', 'Crash_Road_Surface_Condition', 'Crash_Atmospheric_Condition', 'Crash_Lighting_Condition', 'Crash_Road_Horiz_Align', 'Crash_Road_Vert_Align', 'Count_Casualty_Fatality', 'Count_Casualty_Hospitalised', 'Count_Casualty_MedicallyTreated', 'Count_Casualty_MinorInjury', 'Count_Unit_Bicycle'])"
   ]
  },
  {
   "cell_type": "code",
   "execution_count": 22,
   "metadata": {
    "collapsed": true
   },
   "outputs": [],
   "source": [
    "df.to_csv(os.path.join(data_path,'cleaned_crash_locations_ped_and_cyc.csv'),\n",
    "                          index=False,\n",
    "                         columns=['Crash_Severity', 'Crash_Month', 'Crash_Day_Of_Week', 'Crash_Hour','Loc_Suburb', 'Loc_ABS_Remoteness', 'Crash_Longitude_GDA94', 'Crash_Latitude_GDA94','Crash_Roadway_Feature', 'Crash_Speed_Limit', 'Crash_Road_Surface_Condition', 'Crash_Atmospheric_Condition', 'Crash_Lighting_Condition', 'Crash_Road_Horiz_Align', 'Crash_Road_Vert_Align', 'Count_Casualty_Fatality', 'Count_Casualty_Hospitalised', 'Count_Casualty_MedicallyTreated', 'Count_Casualty_MinorInjury', 'Count_Unit_Pedestrian','Count_Unit_Bicycle'])"
   ]
  },
  {
   "cell_type": "code",
   "execution_count": null,
   "metadata": {
    "collapsed": true
   },
   "outputs": [],
   "source": []
  }
 ],
 "metadata": {
  "kernelspec": {
   "display_name": "Python 3",
   "language": "python",
   "name": "python3"
  },
  "language_info": {
   "codemirror_mode": {
    "name": "ipython",
    "version": 3
   },
   "file_extension": ".py",
   "mimetype": "text/x-python",
   "name": "python",
   "nbconvert_exporter": "python",
   "pygments_lexer": "ipython3",
   "version": "3.6.3"
  }
 },
 "nbformat": 4,
 "nbformat_minor": 2
}
