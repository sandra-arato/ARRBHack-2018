{
 "cells": [
  {
   "cell_type": "code",
   "execution_count": 23,
   "metadata": {
    "collapsed": true
   },
   "outputs": [],
   "source": [
    "%matplotlib inline\n",
    "import sys\n",
    "import numpy as np\n",
    "import pandas as pd\n",
    "import matplotlib.pyplot as plt\n",
    "import math\n",
    "import os\n",
    "from sklearn.utils import shuffle"
   ]
  },
  {
   "cell_type": "code",
   "execution_count": 24,
   "metadata": {
    "collapsed": true
   },
   "outputs": [],
   "source": [
    "data_path = r'/Users/alexandraszenti/Documents/GitHub Projects/ARRBHack-2018/_data'"
   ]
  },
  {
   "cell_type": "code",
   "execution_count": 25,
   "metadata": {
    "collapsed": true
   },
   "outputs": [],
   "source": [
    "df = pd.read_csv(os.path.join(data_path,'road_crash_locations.csv'))"
   ]
  },
  {
   "cell_type": "code",
   "execution_count": 26,
   "metadata": {},
   "outputs": [
    {
     "data": {
      "text/plain": [
       "Index(['Crash_Ref_Number', 'Crash_Severity', 'Crash_Year', 'Crash_Month',\n",
       "       'Crash_Day_Of_Week', 'Crash_Hour', 'Crash_Nature', 'Crash_Type',\n",
       "       'Crash_Longitude_GDA94', 'Crash_Latitude_GDA94', 'Crash_Street',\n",
       "       'Crash_Street_Intersecting', 'Loc_Suburb', 'Loc_Local_Government_Area',\n",
       "       'Loc_Post_Code', 'Loc_Police_Division', 'Loc_Police_District',\n",
       "       'Loc_Police_Region', 'Loc_Queensland_Transport_Region',\n",
       "       'Loc_Main_Roads_Region', 'Loc_ABS_Statistical_Area_2',\n",
       "       'Loc_ABS_Statistical_Area_3', 'Loc_ABS_Statistical_Area_4',\n",
       "       'Loc_ABS_Remoteness', 'Loc_State_Electorate', 'Loc_Federal_Electorate',\n",
       "       'Crash_Controlling_Authority', 'Crash_Roadway_Feature',\n",
       "       'Crash_Traffic_Control', 'Crash_Speed_Limit',\n",
       "       'Crash_Road_Surface_Condition', 'Crash_Atmospheric_Condition',\n",
       "       'Crash_Lighting_Condition', 'Crash_Road_Horiz_Align',\n",
       "       'Crash_Road_Vert_Align', 'Crash_DCA_Code', 'Crash_DCA_Description',\n",
       "       'Crash_DCA_Group_Description', 'Count_Casualty_Fatality',\n",
       "       'Count_Casualty_Hospitalised', 'Count_Casualty_MedicallyTreated',\n",
       "       'Count_Casualty_MinorInjury', 'Count_Casualty_Total', 'Count_Unit_Car',\n",
       "       'Count_Unit_Motorcycle_Moped', 'Count_Unit_Truck', 'Count_Unit_Bus',\n",
       "       'Count_Unit_Bicycle', 'Count_Unit_Pedestrian', 'Count_Unit_Other'],\n",
       "      dtype='object')"
      ]
     },
     "execution_count": 26,
     "metadata": {},
     "output_type": "execute_result"
    }
   ],
   "source": [
    "df.columns"
   ]
  },
  {
   "cell_type": "code",
   "execution_count": 27,
   "metadata": {},
   "outputs": [],
   "source": [
    "cleaned = df[['Crash_Severity', 'Crash_Month', 'Crash_Day_Of_Week', 'Crash_Hour',\n",
    "#              'Crash_Longitude_GDA94', 'Crash_Latitude_GDA94',\n",
    "             'Loc_Suburb',\n",
    "             'Loc_ABS_Remoteness',\n",
    "             'Crash_Roadway_Feature',\n",
    "             'Crash_Street', 'Crash_Street_Intersecting',\n",
    "             'Crash_Speed_Limit',\n",
    "             'Crash_Road_Surface_Condition', 'Crash_Atmospheric_Condition',\n",
    "             'Crash_Lighting_Condition', 'Crash_Road_Horiz_Align', 'Crash_Road_Vert_Align',\n",
    "             'Count_Unit_Bicycle'\n",
    "             ]]"
   ]
  },
  {
   "cell_type": "code",
   "execution_count": 28,
   "metadata": {},
   "outputs": [
    {
     "data": {
      "text/html": [
       "<div>\n",
       "<style>\n",
       "    .dataframe thead tr:only-child th {\n",
       "        text-align: right;\n",
       "    }\n",
       "\n",
       "    .dataframe thead th {\n",
       "        text-align: left;\n",
       "    }\n",
       "\n",
       "    .dataframe tbody tr th {\n",
       "        vertical-align: top;\n",
       "    }\n",
       "</style>\n",
       "<table border=\"1\" class=\"dataframe\">\n",
       "  <thead>\n",
       "    <tr style=\"text-align: right;\">\n",
       "      <th></th>\n",
       "      <th>Crash_Severity</th>\n",
       "      <th>Crash_Month</th>\n",
       "      <th>Crash_Day_Of_Week</th>\n",
       "      <th>Crash_Hour</th>\n",
       "      <th>Loc_Suburb</th>\n",
       "      <th>Loc_ABS_Remoteness</th>\n",
       "      <th>Crash_Roadway_Feature</th>\n",
       "      <th>Crash_Street</th>\n",
       "      <th>Crash_Street_Intersecting</th>\n",
       "      <th>Crash_Speed_Limit</th>\n",
       "      <th>Crash_Road_Surface_Condition</th>\n",
       "      <th>Crash_Atmospheric_Condition</th>\n",
       "      <th>Crash_Lighting_Condition</th>\n",
       "      <th>Crash_Road_Horiz_Align</th>\n",
       "      <th>Crash_Road_Vert_Align</th>\n",
       "      <th>Count_Unit_Bicycle</th>\n",
       "    </tr>\n",
       "  </thead>\n",
       "  <tbody>\n",
       "    <tr>\n",
       "      <th>0</th>\n",
       "      <td>Property damage only</td>\n",
       "      <td>January</td>\n",
       "      <td>Monday</td>\n",
       "      <td>22</td>\n",
       "      <td>Herston</td>\n",
       "      <td>Major cities</td>\n",
       "      <td>Intersection - T-Junction</td>\n",
       "      <td>Bowen Bridge Rd</td>\n",
       "      <td>Herston Rd</td>\n",
       "      <td>60 km/h</td>\n",
       "      <td>Unknown</td>\n",
       "      <td>Clear</td>\n",
       "      <td>Darkness - Lighted</td>\n",
       "      <td>Curved - view open</td>\n",
       "      <td>Level</td>\n",
       "      <td>0.0</td>\n",
       "    </tr>\n",
       "    <tr>\n",
       "      <th>1</th>\n",
       "      <td>Property damage only</td>\n",
       "      <td>January</td>\n",
       "      <td>Monday</td>\n",
       "      <td>2</td>\n",
       "      <td>Caboolture</td>\n",
       "      <td>Major cities</td>\n",
       "      <td>No Roadway Feature</td>\n",
       "      <td>Pumicestone Rd</td>\n",
       "      <td>NaN</td>\n",
       "      <td>100 - 110 km/h</td>\n",
       "      <td>Sealed - Wet</td>\n",
       "      <td>Clear</td>\n",
       "      <td>Darkness - Not lighted</td>\n",
       "      <td>Straight</td>\n",
       "      <td>Level</td>\n",
       "      <td>0.0</td>\n",
       "    </tr>\n",
       "    <tr>\n",
       "      <th>2</th>\n",
       "      <td>Medical treatment</td>\n",
       "      <td>January</td>\n",
       "      <td>Monday</td>\n",
       "      <td>14</td>\n",
       "      <td>Karalee</td>\n",
       "      <td>Major cities</td>\n",
       "      <td>No Roadway Feature</td>\n",
       "      <td>Lyndon Way</td>\n",
       "      <td>NaN</td>\n",
       "      <td>0 - 50 km/h</td>\n",
       "      <td>Sealed - Dry</td>\n",
       "      <td>Clear</td>\n",
       "      <td>Daylight</td>\n",
       "      <td>Straight</td>\n",
       "      <td>Level</td>\n",
       "      <td>0.0</td>\n",
       "    </tr>\n",
       "    <tr>\n",
       "      <th>3</th>\n",
       "      <td>Minor injury</td>\n",
       "      <td>January</td>\n",
       "      <td>Monday</td>\n",
       "      <td>0</td>\n",
       "      <td>Dakabin</td>\n",
       "      <td>Major cities</td>\n",
       "      <td>Intersection - T-Junction</td>\n",
       "      <td>Alma Rd</td>\n",
       "      <td>Thompson Rd</td>\n",
       "      <td>60 km/h</td>\n",
       "      <td>Sealed - Dry</td>\n",
       "      <td>Clear</td>\n",
       "      <td>Darkness - Not lighted</td>\n",
       "      <td>Curved - view obscured</td>\n",
       "      <td>Level</td>\n",
       "      <td>0.0</td>\n",
       "    </tr>\n",
       "    <tr>\n",
       "      <th>4</th>\n",
       "      <td>Medical treatment</td>\n",
       "      <td>January</td>\n",
       "      <td>Monday</td>\n",
       "      <td>15</td>\n",
       "      <td>Kallangur</td>\n",
       "      <td>Major cities</td>\n",
       "      <td>Intersection - Cross</td>\n",
       "      <td>Duffield Rd</td>\n",
       "      <td>Redcliffe Rd</td>\n",
       "      <td>60 km/h</td>\n",
       "      <td>Sealed - Dry</td>\n",
       "      <td>Clear</td>\n",
       "      <td>Daylight</td>\n",
       "      <td>Straight</td>\n",
       "      <td>Level</td>\n",
       "      <td>0.0</td>\n",
       "    </tr>\n",
       "  </tbody>\n",
       "</table>\n",
       "</div>"
      ],
      "text/plain": [
       "         Crash_Severity Crash_Month Crash_Day_Of_Week  Crash_Hour  Loc_Suburb  \\\n",
       "0  Property damage only     January            Monday          22     Herston   \n",
       "1  Property damage only     January            Monday           2  Caboolture   \n",
       "2     Medical treatment     January            Monday          14     Karalee   \n",
       "3          Minor injury     January            Monday           0     Dakabin   \n",
       "4     Medical treatment     January            Monday          15   Kallangur   \n",
       "\n",
       "  Loc_ABS_Remoteness      Crash_Roadway_Feature     Crash_Street  \\\n",
       "0       Major cities  Intersection - T-Junction  Bowen Bridge Rd   \n",
       "1       Major cities         No Roadway Feature   Pumicestone Rd   \n",
       "2       Major cities         No Roadway Feature       Lyndon Way   \n",
       "3       Major cities  Intersection - T-Junction          Alma Rd   \n",
       "4       Major cities       Intersection - Cross      Duffield Rd   \n",
       "\n",
       "  Crash_Street_Intersecting Crash_Speed_Limit Crash_Road_Surface_Condition  \\\n",
       "0                Herston Rd           60 km/h                      Unknown   \n",
       "1                       NaN    100 - 110 km/h                 Sealed - Wet   \n",
       "2                       NaN       0 - 50 km/h                 Sealed - Dry   \n",
       "3               Thompson Rd           60 km/h                 Sealed - Dry   \n",
       "4              Redcliffe Rd           60 km/h                 Sealed - Dry   \n",
       "\n",
       "  Crash_Atmospheric_Condition Crash_Lighting_Condition  \\\n",
       "0                       Clear       Darkness - Lighted   \n",
       "1                       Clear   Darkness - Not lighted   \n",
       "2                       Clear                 Daylight   \n",
       "3                       Clear   Darkness - Not lighted   \n",
       "4                       Clear                 Daylight   \n",
       "\n",
       "   Crash_Road_Horiz_Align Crash_Road_Vert_Align  Count_Unit_Bicycle  \n",
       "0      Curved - view open                 Level                 0.0  \n",
       "1                Straight                 Level                 0.0  \n",
       "2                Straight                 Level                 0.0  \n",
       "3  Curved - view obscured                 Level                 0.0  \n",
       "4                Straight                 Level                 0.0  "
      ]
     },
     "execution_count": 28,
     "metadata": {},
     "output_type": "execute_result"
    }
   ],
   "source": [
    "cleaned.head()"
   ]
  },
  {
   "cell_type": "code",
   "execution_count": 29,
   "metadata": {},
   "outputs": [],
   "source": [
    "cleaned = cleaned.fillna('')"
   ]
  },
  {
   "cell_type": "code",
   "execution_count": 31,
   "metadata": {},
   "outputs": [],
   "source": [
    "isCrashRoadSurfaceConditionNotUnknown = cleaned['Crash_Road_Surface_Condition'] != 'Unknown'\n",
    "isCrashAtmosphericConditionNotUnknown = cleaned['Crash_Atmospheric_Condition'] != 'Unknown'\n",
    "isCrashLightingConditionNotUnknown = cleaned['Crash_Lighting_Condition'] != 'Unknown'\n",
    "cleaned = cleaned[isCrashRoadSurfaceConditionNotUnknown & isCrashAtmosphericConditionNotUnknown & isCrashLightingConditionNotUnknown]"
   ]
  },
  {
   "cell_type": "code",
   "execution_count": 32,
   "metadata": {},
   "outputs": [
    {
     "data": {
      "text/plain": [
       "(182492, 16)"
      ]
     },
     "execution_count": 32,
     "metadata": {},
     "output_type": "execute_result"
    }
   ],
   "source": [
    "isMajorCities = cleaned['Loc_ABS_Remoteness'] == 'Major cities'\n",
    "cleaned = cleaned[isMajorCities]\n",
    "cleaned.shape"
   ]
  },
  {
   "cell_type": "code",
   "execution_count": 33,
   "metadata": {},
   "outputs": [
    {
     "data": {
      "text/plain": [
       "(182491, 16)"
      ]
     },
     "execution_count": 33,
     "metadata": {},
     "output_type": "execute_result"
    }
   ],
   "source": [
    "isHorizAlignKnown = cleaned['Crash_Road_Horiz_Align'] != 'Unknown'\n",
    "isVertAlignKnown = cleaned['Crash_Road_Vert_Align'] != 'Unknown'\n",
    "cleaned = cleaned[isHorizAlignKnown & isVertAlignKnown]\n",
    "cleaned.shape"
   ]
  },
  {
   "cell_type": "code",
   "execution_count": 34,
   "metadata": {
    "collapsed": true
   },
   "outputs": [],
   "source": [
    "cleaned['Cyclist_FSI'] = cleaned.apply(lambda row: (row.Crash_Severity in ['Fatal', 'Hospitalisation'] and row.Count_Unit_Bicycle > 0), axis=1)\n"
   ]
  },
  {
   "cell_type": "markdown",
   "metadata": {},
   "source": [
    "General cleaning until this point, remapping after\n"
   ]
  },
  {
   "cell_type": "code",
   "execution_count": 46,
   "metadata": {
    "collapsed": true
   },
   "outputs": [],
   "source": [
    "cleaned['isWeekday'] = cleaned.apply(lambda row: (row.Crash_Day_Of_Week in ['Saturday', 'Sunday']), axis=1)"
   ]
  },
  {
   "cell_type": "code",
   "execution_count": 36,
   "metadata": {
    "collapsed": true
   },
   "outputs": [],
   "source": [
    "cleaned['isCitySpeed'] = cleaned.apply(lambda row: (row.Crash_Speed_Limit in ['60 km/h', '0 - 50 km/h']), axis=1)"
   ]
  },
  {
   "cell_type": "code",
   "execution_count": 37,
   "metadata": {
    "collapsed": true
   },
   "outputs": [],
   "source": [
    "cleaned['isIntersection'] = cleaned.apply(lambda row: ('Intersection' in row.Crash_Roadway_Feature), axis=1)"
   ]
  },
  {
   "cell_type": "code",
   "execution_count": 39,
   "metadata": {},
   "outputs": [],
   "source": [
    "cleaned['Crash_Lighting_Condition'] = cleaned['Crash_Lighting_Condition'].replace(['Darkness - Lighted', 'Darkness - Not lighted'], 'Darkness')"
   ]
  },
  {
   "cell_type": "code",
   "execution_count": 41,
   "metadata": {},
   "outputs": [],
   "source": [
    "cleaned['combined_street'] = cleaned.apply(lambda row: (\"%s - %s\" % (row.Crash_Street, row.Crash_Street_Intersecting) ), axis=1)"
   ]
  },
  {
   "cell_type": "code",
   "execution_count": 45,
   "metadata": {},
   "outputs": [
    {
     "data": {
      "text/plain": [
       "False    137369\n",
       "True      45122\n",
       "Name: isWeekday, dtype: int64"
      ]
     },
     "execution_count": 45,
     "metadata": {},
     "output_type": "execute_result"
    }
   ],
   "source": [
    "cleaned['isWeekday'].value_counts()"
   ]
  },
  {
   "cell_type": "code",
   "execution_count": 47,
   "metadata": {},
   "outputs": [
    {
     "data": {
      "text/plain": [
       "Index(['Crash_Severity', 'Crash_Month', 'Crash_Day_Of_Week', 'Crash_Hour',\n",
       "       'Loc_Suburb', 'Loc_ABS_Remoteness', 'Crash_Roadway_Feature',\n",
       "       'Crash_Street', 'Crash_Street_Intersecting', 'Crash_Speed_Limit',\n",
       "       'Crash_Road_Surface_Condition', 'Crash_Atmospheric_Condition',\n",
       "       'Crash_Lighting_Condition', 'Crash_Road_Horiz_Align',\n",
       "       'Crash_Road_Vert_Align', 'Count_Unit_Bicycle', 'Cyclist_FSI',\n",
       "       'isWeekday', 'isCitySpeed', 'isIntersection', 'combined_street'],\n",
       "      dtype='object')"
      ]
     },
     "execution_count": 47,
     "metadata": {},
     "output_type": "execute_result"
    }
   ],
   "source": [
    "cleaned.columns"
   ]
  },
  {
   "cell_type": "code",
   "execution_count": 48,
   "metadata": {},
   "outputs": [
    {
     "data": {
      "text/html": [
       "<div>\n",
       "<style>\n",
       "    .dataframe thead tr:only-child th {\n",
       "        text-align: right;\n",
       "    }\n",
       "\n",
       "    .dataframe thead th {\n",
       "        text-align: left;\n",
       "    }\n",
       "\n",
       "    .dataframe tbody tr th {\n",
       "        vertical-align: top;\n",
       "    }\n",
       "</style>\n",
       "<table border=\"1\" class=\"dataframe\">\n",
       "  <thead>\n",
       "    <tr style=\"text-align: right;\">\n",
       "      <th></th>\n",
       "      <th>Crash_Severity</th>\n",
       "      <th>Crash_Month</th>\n",
       "      <th>Crash_Day_Of_Week</th>\n",
       "      <th>Crash_Hour</th>\n",
       "      <th>Loc_Suburb</th>\n",
       "      <th>Loc_ABS_Remoteness</th>\n",
       "      <th>Crash_Roadway_Feature</th>\n",
       "      <th>Crash_Street</th>\n",
       "      <th>Crash_Street_Intersecting</th>\n",
       "      <th>Crash_Speed_Limit</th>\n",
       "      <th>...</th>\n",
       "      <th>Crash_Atmospheric_Condition</th>\n",
       "      <th>Crash_Lighting_Condition</th>\n",
       "      <th>Crash_Road_Horiz_Align</th>\n",
       "      <th>Crash_Road_Vert_Align</th>\n",
       "      <th>Count_Unit_Bicycle</th>\n",
       "      <th>Cyclist_FSI</th>\n",
       "      <th>isWeekday</th>\n",
       "      <th>isCitySpeed</th>\n",
       "      <th>isIntersection</th>\n",
       "      <th>combined_street</th>\n",
       "    </tr>\n",
       "  </thead>\n",
       "  <tbody>\n",
       "    <tr>\n",
       "      <th>1</th>\n",
       "      <td>Property damage only</td>\n",
       "      <td>January</td>\n",
       "      <td>Monday</td>\n",
       "      <td>2</td>\n",
       "      <td>Caboolture</td>\n",
       "      <td>Major cities</td>\n",
       "      <td>No Roadway Feature</td>\n",
       "      <td>Pumicestone Rd</td>\n",
       "      <td></td>\n",
       "      <td>100 - 110 km/h</td>\n",
       "      <td>...</td>\n",
       "      <td>Clear</td>\n",
       "      <td>Darkness</td>\n",
       "      <td>Straight</td>\n",
       "      <td>Level</td>\n",
       "      <td>0</td>\n",
       "      <td>False</td>\n",
       "      <td>False</td>\n",
       "      <td>False</td>\n",
       "      <td>False</td>\n",
       "      <td>Pumicestone Rd -</td>\n",
       "    </tr>\n",
       "    <tr>\n",
       "      <th>2</th>\n",
       "      <td>Medical treatment</td>\n",
       "      <td>January</td>\n",
       "      <td>Monday</td>\n",
       "      <td>14</td>\n",
       "      <td>Karalee</td>\n",
       "      <td>Major cities</td>\n",
       "      <td>No Roadway Feature</td>\n",
       "      <td>Lyndon Way</td>\n",
       "      <td></td>\n",
       "      <td>0 - 50 km/h</td>\n",
       "      <td>...</td>\n",
       "      <td>Clear</td>\n",
       "      <td>Daylight</td>\n",
       "      <td>Straight</td>\n",
       "      <td>Level</td>\n",
       "      <td>0</td>\n",
       "      <td>False</td>\n",
       "      <td>False</td>\n",
       "      <td>True</td>\n",
       "      <td>False</td>\n",
       "      <td>Lyndon Way -</td>\n",
       "    </tr>\n",
       "    <tr>\n",
       "      <th>3</th>\n",
       "      <td>Minor injury</td>\n",
       "      <td>January</td>\n",
       "      <td>Monday</td>\n",
       "      <td>0</td>\n",
       "      <td>Dakabin</td>\n",
       "      <td>Major cities</td>\n",
       "      <td>Intersection - T-Junction</td>\n",
       "      <td>Alma Rd</td>\n",
       "      <td>Thompson Rd</td>\n",
       "      <td>60 km/h</td>\n",
       "      <td>...</td>\n",
       "      <td>Clear</td>\n",
       "      <td>Darkness</td>\n",
       "      <td>Curved - view obscured</td>\n",
       "      <td>Level</td>\n",
       "      <td>0</td>\n",
       "      <td>False</td>\n",
       "      <td>False</td>\n",
       "      <td>True</td>\n",
       "      <td>True</td>\n",
       "      <td>Alma Rd - Thompson Rd</td>\n",
       "    </tr>\n",
       "    <tr>\n",
       "      <th>4</th>\n",
       "      <td>Medical treatment</td>\n",
       "      <td>January</td>\n",
       "      <td>Monday</td>\n",
       "      <td>15</td>\n",
       "      <td>Kallangur</td>\n",
       "      <td>Major cities</td>\n",
       "      <td>Intersection - Cross</td>\n",
       "      <td>Duffield Rd</td>\n",
       "      <td>Redcliffe Rd</td>\n",
       "      <td>60 km/h</td>\n",
       "      <td>...</td>\n",
       "      <td>Clear</td>\n",
       "      <td>Daylight</td>\n",
       "      <td>Straight</td>\n",
       "      <td>Level</td>\n",
       "      <td>0</td>\n",
       "      <td>False</td>\n",
       "      <td>False</td>\n",
       "      <td>True</td>\n",
       "      <td>True</td>\n",
       "      <td>Duffield Rd - Redcliffe Rd</td>\n",
       "    </tr>\n",
       "    <tr>\n",
       "      <th>5</th>\n",
       "      <td>Minor injury</td>\n",
       "      <td>January</td>\n",
       "      <td>Monday</td>\n",
       "      <td>11</td>\n",
       "      <td>Crestmead</td>\n",
       "      <td>Major cities</td>\n",
       "      <td>Intersection - Cross</td>\n",
       "      <td>Browns Plains Rd</td>\n",
       "      <td>Third Ave</td>\n",
       "      <td>70 km/h</td>\n",
       "      <td>...</td>\n",
       "      <td>Clear</td>\n",
       "      <td>Daylight</td>\n",
       "      <td>Straight</td>\n",
       "      <td>Grade</td>\n",
       "      <td>0</td>\n",
       "      <td>False</td>\n",
       "      <td>False</td>\n",
       "      <td>False</td>\n",
       "      <td>True</td>\n",
       "      <td>Browns Plains Rd - Third Ave</td>\n",
       "    </tr>\n",
       "  </tbody>\n",
       "</table>\n",
       "<p>5 rows × 21 columns</p>\n",
       "</div>"
      ],
      "text/plain": [
       "         Crash_Severity Crash_Month Crash_Day_Of_Week  Crash_Hour  Loc_Suburb  \\\n",
       "1  Property damage only     January            Monday           2  Caboolture   \n",
       "2     Medical treatment     January            Monday          14     Karalee   \n",
       "3          Minor injury     January            Monday           0     Dakabin   \n",
       "4     Medical treatment     January            Monday          15   Kallangur   \n",
       "5          Minor injury     January            Monday          11   Crestmead   \n",
       "\n",
       "  Loc_ABS_Remoteness      Crash_Roadway_Feature      Crash_Street  \\\n",
       "1       Major cities         No Roadway Feature    Pumicestone Rd   \n",
       "2       Major cities         No Roadway Feature        Lyndon Way   \n",
       "3       Major cities  Intersection - T-Junction           Alma Rd   \n",
       "4       Major cities       Intersection - Cross       Duffield Rd   \n",
       "5       Major cities       Intersection - Cross  Browns Plains Rd   \n",
       "\n",
       "  Crash_Street_Intersecting Crash_Speed_Limit              ...               \\\n",
       "1                              100 - 110 km/h              ...                \n",
       "2                                 0 - 50 km/h              ...                \n",
       "3               Thompson Rd           60 km/h              ...                \n",
       "4              Redcliffe Rd           60 km/h              ...                \n",
       "5                 Third Ave           70 km/h              ...                \n",
       "\n",
       "  Crash_Atmospheric_Condition Crash_Lighting_Condition  \\\n",
       "1                       Clear                 Darkness   \n",
       "2                       Clear                 Daylight   \n",
       "3                       Clear                 Darkness   \n",
       "4                       Clear                 Daylight   \n",
       "5                       Clear                 Daylight   \n",
       "\n",
       "   Crash_Road_Horiz_Align Crash_Road_Vert_Align Count_Unit_Bicycle  \\\n",
       "1                Straight                 Level                  0   \n",
       "2                Straight                 Level                  0   \n",
       "3  Curved - view obscured                 Level                  0   \n",
       "4                Straight                 Level                  0   \n",
       "5                Straight                 Grade                  0   \n",
       "\n",
       "  Cyclist_FSI  isWeekday  isCitySpeed  isIntersection  \\\n",
       "1       False      False        False           False   \n",
       "2       False      False         True           False   \n",
       "3       False      False         True            True   \n",
       "4       False      False         True            True   \n",
       "5       False      False        False            True   \n",
       "\n",
       "                combined_street  \n",
       "1             Pumicestone Rd -   \n",
       "2                 Lyndon Way -   \n",
       "3         Alma Rd - Thompson Rd  \n",
       "4    Duffield Rd - Redcliffe Rd  \n",
       "5  Browns Plains Rd - Third Ave  \n",
       "\n",
       "[5 rows x 21 columns]"
      ]
     },
     "execution_count": 48,
     "metadata": {},
     "output_type": "execute_result"
    }
   ],
   "source": [
    "cleaned.head()"
   ]
  },
  {
   "cell_type": "code",
   "execution_count": 49,
   "metadata": {
    "collapsed": true
   },
   "outputs": [],
   "source": [
    "shuffle(df).to_csv(os.path.join(data_path,'cyclist_fsi_no_geolocation.csv'),\n",
    "                          index=False,\n",
    "                         columns=['Crash_Month', 'Crash_Day_Of_Week', 'Crash_Hour', 'isWeekday',\n",
    "                                 'Loc_Suburb', 'combined_street', 'isIntersection', 'isCitySpeed',\n",
    "                                 'Crash_Road_Surface_Condition', 'Crash_Atmospheric_Condition',\n",
    "                                 'Crash_Lighting_Condition', 'Crash_Road_Horiz_Align', 'Crash_Road_Vert_Align',\n",
    "                                 'Cyclist_FSI'\n",
    "                                 ])"
   ]
  },
  {
   "cell_type": "code",
   "execution_count": null,
   "metadata": {
    "collapsed": true
   },
   "outputs": [],
   "source": []
  }
 ],
 "metadata": {
  "kernelspec": {
   "display_name": "Python 3",
   "language": "python",
   "name": "python3"
  },
  "language_info": {
   "codemirror_mode": {
    "name": "ipython",
    "version": 3
   },
   "file_extension": ".py",
   "mimetype": "text/x-python",
   "name": "python",
   "nbconvert_exporter": "python",
   "pygments_lexer": "ipython3",
   "version": "3.6.3"
  }
 },
 "nbformat": 4,
 "nbformat_minor": 2
}
