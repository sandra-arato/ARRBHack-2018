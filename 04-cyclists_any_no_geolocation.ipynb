{
 "cells": [
  {
   "cell_type": "code",
   "execution_count": 1,
   "metadata": {
    "collapsed": true
   },
   "outputs": [],
   "source": [
    "%matplotlib inline\n",
    "import sys\n",
    "import numpy as np\n",
    "import pandas as pd\n",
    "import matplotlib.pyplot as plt\n",
    "import math\n",
    "import os\n",
    "from sklearn.utils import shuffle"
   ]
  },
  {
   "cell_type": "code",
   "execution_count": 2,
   "metadata": {
    "collapsed": true
   },
   "outputs": [],
   "source": [
    "data_path = r'/Users/alexandraszenti/Documents/GitHub Projects/ARRBHack-2018/_data'"
   ]
  },
  {
   "cell_type": "code",
   "execution_count": 10,
   "metadata": {
    "collapsed": true
   },
   "outputs": [],
   "source": [
    "df = pd.read_csv(os.path.join(data_path,'road_crash_locations.csv'))"
   ]
  },
  {
   "cell_type": "code",
   "execution_count": 11,
   "metadata": {},
   "outputs": [
    {
     "data": {
      "text/plain": [
       "Index(['Crash_Ref_Number', 'Crash_Severity', 'Crash_Year', 'Crash_Month',\n",
       "       'Crash_Day_Of_Week', 'Crash_Hour', 'Crash_Nature', 'Crash_Type',\n",
       "       'Crash_Longitude_GDA94', 'Crash_Latitude_GDA94', 'Crash_Street',\n",
       "       'Crash_Street_Intersecting', 'Loc_Suburb', 'Loc_Local_Government_Area',\n",
       "       'Loc_Post_Code', 'Loc_Police_Division', 'Loc_Police_District',\n",
       "       'Loc_Police_Region', 'Loc_Queensland_Transport_Region',\n",
       "       'Loc_Main_Roads_Region', 'Loc_ABS_Statistical_Area_2',\n",
       "       'Loc_ABS_Statistical_Area_3', 'Loc_ABS_Statistical_Area_4',\n",
       "       'Loc_ABS_Remoteness', 'Loc_State_Electorate', 'Loc_Federal_Electorate',\n",
       "       'Crash_Controlling_Authority', 'Crash_Roadway_Feature',\n",
       "       'Crash_Traffic_Control', 'Crash_Speed_Limit',\n",
       "       'Crash_Road_Surface_Condition', 'Crash_Atmospheric_Condition',\n",
       "       'Crash_Lighting_Condition', 'Crash_Road_Horiz_Align',\n",
       "       'Crash_Road_Vert_Align', 'Crash_DCA_Code', 'Crash_DCA_Description',\n",
       "       'Crash_DCA_Group_Description', 'Count_Casualty_Fatality',\n",
       "       'Count_Casualty_Hospitalised', 'Count_Casualty_MedicallyTreated',\n",
       "       'Count_Casualty_MinorInjury', 'Count_Casualty_Total', 'Count_Unit_Car',\n",
       "       'Count_Unit_Motorcycle_Moped', 'Count_Unit_Truck', 'Count_Unit_Bus',\n",
       "       'Count_Unit_Bicycle', 'Count_Unit_Pedestrian', 'Count_Unit_Other'],\n",
       "      dtype='object')"
      ]
     },
     "execution_count": 11,
     "metadata": {},
     "output_type": "execute_result"
    }
   ],
   "source": [
    "df.columns"
   ]
  },
  {
   "cell_type": "code",
   "execution_count": 12,
   "metadata": {
    "collapsed": true
   },
   "outputs": [],
   "source": [
    "cleaned = df[['Crash_Severity', 'Crash_Month', 'Crash_Day_Of_Week', 'Crash_Hour',\n",
    "#              'Crash_Longitude_GDA94', 'Crash_Latitude_GDA94',\n",
    "             'Loc_Suburb',\n",
    "             'Loc_ABS_Remoteness',\n",
    "             'Crash_Roadway_Feature',\n",
    "             'Crash_Street', 'Crash_Street_Intersecting',\n",
    "             'Crash_Speed_Limit',\n",
    "             'Crash_Road_Surface_Condition', 'Crash_Atmospheric_Condition',\n",
    "             'Crash_Lighting_Condition',\n",
    "             'Crash_Road_Horiz_Align', 'Crash_Road_Vert_Align',\n",
    "             'Count_Unit_Bicycle'\n",
    "             ]]"
   ]
  },
  {
   "cell_type": "code",
   "execution_count": 13,
   "metadata": {},
   "outputs": [
    {
     "data": {
      "text/html": [
       "<div>\n",
       "<style>\n",
       "    .dataframe thead tr:only-child th {\n",
       "        text-align: right;\n",
       "    }\n",
       "\n",
       "    .dataframe thead th {\n",
       "        text-align: left;\n",
       "    }\n",
       "\n",
       "    .dataframe tbody tr th {\n",
       "        vertical-align: top;\n",
       "    }\n",
       "</style>\n",
       "<table border=\"1\" class=\"dataframe\">\n",
       "  <thead>\n",
       "    <tr style=\"text-align: right;\">\n",
       "      <th></th>\n",
       "      <th>Crash_Severity</th>\n",
       "      <th>Crash_Month</th>\n",
       "      <th>Crash_Day_Of_Week</th>\n",
       "      <th>Crash_Hour</th>\n",
       "      <th>Loc_Suburb</th>\n",
       "      <th>Loc_ABS_Remoteness</th>\n",
       "      <th>Crash_Roadway_Feature</th>\n",
       "      <th>Crash_Street</th>\n",
       "      <th>Crash_Street_Intersecting</th>\n",
       "      <th>Crash_Speed_Limit</th>\n",
       "      <th>Crash_Road_Surface_Condition</th>\n",
       "      <th>Crash_Atmospheric_Condition</th>\n",
       "      <th>Crash_Lighting_Condition</th>\n",
       "      <th>Crash_Road_Horiz_Align</th>\n",
       "      <th>Crash_Road_Vert_Align</th>\n",
       "      <th>Count_Unit_Bicycle</th>\n",
       "    </tr>\n",
       "  </thead>\n",
       "  <tbody>\n",
       "    <tr>\n",
       "      <th>0</th>\n",
       "      <td>Property damage only</td>\n",
       "      <td>January</td>\n",
       "      <td>Monday</td>\n",
       "      <td>22</td>\n",
       "      <td>Herston</td>\n",
       "      <td>Major cities</td>\n",
       "      <td>Intersection - T-Junction</td>\n",
       "      <td>Bowen Bridge Rd</td>\n",
       "      <td>Herston Rd</td>\n",
       "      <td>60 km/h</td>\n",
       "      <td>Unknown</td>\n",
       "      <td>Clear</td>\n",
       "      <td>Darkness - Lighted</td>\n",
       "      <td>Curved - view open</td>\n",
       "      <td>Level</td>\n",
       "      <td>0.0</td>\n",
       "    </tr>\n",
       "    <tr>\n",
       "      <th>1</th>\n",
       "      <td>Property damage only</td>\n",
       "      <td>January</td>\n",
       "      <td>Monday</td>\n",
       "      <td>2</td>\n",
       "      <td>Caboolture</td>\n",
       "      <td>Major cities</td>\n",
       "      <td>No Roadway Feature</td>\n",
       "      <td>Pumicestone Rd</td>\n",
       "      <td>NaN</td>\n",
       "      <td>100 - 110 km/h</td>\n",
       "      <td>Sealed - Wet</td>\n",
       "      <td>Clear</td>\n",
       "      <td>Darkness - Not lighted</td>\n",
       "      <td>Straight</td>\n",
       "      <td>Level</td>\n",
       "      <td>0.0</td>\n",
       "    </tr>\n",
       "    <tr>\n",
       "      <th>2</th>\n",
       "      <td>Medical treatment</td>\n",
       "      <td>January</td>\n",
       "      <td>Monday</td>\n",
       "      <td>14</td>\n",
       "      <td>Karalee</td>\n",
       "      <td>Major cities</td>\n",
       "      <td>No Roadway Feature</td>\n",
       "      <td>Lyndon Way</td>\n",
       "      <td>NaN</td>\n",
       "      <td>0 - 50 km/h</td>\n",
       "      <td>Sealed - Dry</td>\n",
       "      <td>Clear</td>\n",
       "      <td>Daylight</td>\n",
       "      <td>Straight</td>\n",
       "      <td>Level</td>\n",
       "      <td>0.0</td>\n",
       "    </tr>\n",
       "    <tr>\n",
       "      <th>3</th>\n",
       "      <td>Minor injury</td>\n",
       "      <td>January</td>\n",
       "      <td>Monday</td>\n",
       "      <td>0</td>\n",
       "      <td>Dakabin</td>\n",
       "      <td>Major cities</td>\n",
       "      <td>Intersection - T-Junction</td>\n",
       "      <td>Alma Rd</td>\n",
       "      <td>Thompson Rd</td>\n",
       "      <td>60 km/h</td>\n",
       "      <td>Sealed - Dry</td>\n",
       "      <td>Clear</td>\n",
       "      <td>Darkness - Not lighted</td>\n",
       "      <td>Curved - view obscured</td>\n",
       "      <td>Level</td>\n",
       "      <td>0.0</td>\n",
       "    </tr>\n",
       "    <tr>\n",
       "      <th>4</th>\n",
       "      <td>Medical treatment</td>\n",
       "      <td>January</td>\n",
       "      <td>Monday</td>\n",
       "      <td>15</td>\n",
       "      <td>Kallangur</td>\n",
       "      <td>Major cities</td>\n",
       "      <td>Intersection - Cross</td>\n",
       "      <td>Duffield Rd</td>\n",
       "      <td>Redcliffe Rd</td>\n",
       "      <td>60 km/h</td>\n",
       "      <td>Sealed - Dry</td>\n",
       "      <td>Clear</td>\n",
       "      <td>Daylight</td>\n",
       "      <td>Straight</td>\n",
       "      <td>Level</td>\n",
       "      <td>0.0</td>\n",
       "    </tr>\n",
       "  </tbody>\n",
       "</table>\n",
       "</div>"
      ],
      "text/plain": [
       "         Crash_Severity Crash_Month Crash_Day_Of_Week  Crash_Hour  Loc_Suburb  \\\n",
       "0  Property damage only     January            Monday          22     Herston   \n",
       "1  Property damage only     January            Monday           2  Caboolture   \n",
       "2     Medical treatment     January            Monday          14     Karalee   \n",
       "3          Minor injury     January            Monday           0     Dakabin   \n",
       "4     Medical treatment     January            Monday          15   Kallangur   \n",
       "\n",
       "  Loc_ABS_Remoteness      Crash_Roadway_Feature     Crash_Street  \\\n",
       "0       Major cities  Intersection - T-Junction  Bowen Bridge Rd   \n",
       "1       Major cities         No Roadway Feature   Pumicestone Rd   \n",
       "2       Major cities         No Roadway Feature       Lyndon Way   \n",
       "3       Major cities  Intersection - T-Junction          Alma Rd   \n",
       "4       Major cities       Intersection - Cross      Duffield Rd   \n",
       "\n",
       "  Crash_Street_Intersecting Crash_Speed_Limit Crash_Road_Surface_Condition  \\\n",
       "0                Herston Rd           60 km/h                      Unknown   \n",
       "1                       NaN    100 - 110 km/h                 Sealed - Wet   \n",
       "2                       NaN       0 - 50 km/h                 Sealed - Dry   \n",
       "3               Thompson Rd           60 km/h                 Sealed - Dry   \n",
       "4              Redcliffe Rd           60 km/h                 Sealed - Dry   \n",
       "\n",
       "  Crash_Atmospheric_Condition Crash_Lighting_Condition  \\\n",
       "0                       Clear       Darkness - Lighted   \n",
       "1                       Clear   Darkness - Not lighted   \n",
       "2                       Clear                 Daylight   \n",
       "3                       Clear   Darkness - Not lighted   \n",
       "4                       Clear                 Daylight   \n",
       "\n",
       "   Crash_Road_Horiz_Align Crash_Road_Vert_Align  Count_Unit_Bicycle  \n",
       "0      Curved - view open                 Level                 0.0  \n",
       "1                Straight                 Level                 0.0  \n",
       "2                Straight                 Level                 0.0  \n",
       "3  Curved - view obscured                 Level                 0.0  \n",
       "4                Straight                 Level                 0.0  "
      ]
     },
     "execution_count": 13,
     "metadata": {},
     "output_type": "execute_result"
    }
   ],
   "source": [
    "cleaned.head()"
   ]
  },
  {
   "cell_type": "code",
   "execution_count": 14,
   "metadata": {
    "collapsed": true
   },
   "outputs": [],
   "source": [
    "cleaned = cleaned.fillna('')"
   ]
  },
  {
   "cell_type": "code",
   "execution_count": 15,
   "metadata": {
    "collapsed": true
   },
   "outputs": [],
   "source": [
    "isCrashRoadSurfaceConditionNotUnknown = cleaned['Crash_Road_Surface_Condition'] != 'Unknown'\n",
    "isCrashAtmosphericConditionNotUnknown = cleaned['Crash_Atmospheric_Condition'] != 'Unknown'\n",
    "isCrashLightingConditionNotUnknown = cleaned['Crash_Lighting_Condition'] != 'Unknown'\n",
    "cleaned = cleaned[isCrashRoadSurfaceConditionNotUnknown & isCrashAtmosphericConditionNotUnknown & isCrashLightingConditionNotUnknown]"
   ]
  },
  {
   "cell_type": "code",
   "execution_count": 16,
   "metadata": {},
   "outputs": [
    {
     "data": {
      "text/plain": [
       "Level      229755\n",
       "Grade       50406\n",
       "Crest       15252\n",
       "Dip         10412\n",
       "Unknown        14\n",
       "Name: Crash_Road_Vert_Align, dtype: int64"
      ]
     },
     "execution_count": 16,
     "metadata": {},
     "output_type": "execute_result"
    }
   ],
   "source": [
    "cleaned['Crash_Road_Vert_Align'].value_counts()"
   ]
  },
  {
   "cell_type": "code",
   "execution_count": 17,
   "metadata": {
    "collapsed": true
   },
   "outputs": [],
   "source": [
    "isCrashRoadVertAvail = cleaned['Crash_Road_Vert_Align'] != 'Unknown'\n",
    "isCrashRoadHorizAvail = cleaned['Crash_Road_Horiz_Align'] != 'Unknown'\n",
    "cleaned = cleaned[isCrashRoadVertAvail & isCrashRoadHorizAvail]"
   ]
  },
  {
   "cell_type": "code",
   "execution_count": 18,
   "metadata": {},
   "outputs": [
    {
     "data": {
      "text/plain": [
       "(182491, 16)"
      ]
     },
     "execution_count": 18,
     "metadata": {},
     "output_type": "execute_result"
    }
   ],
   "source": [
    "isMajorCities = cleaned['Loc_ABS_Remoteness'] == 'Major cities'\n",
    "cleaned = cleaned[isMajorCities]\n",
    "cleaned.shape"
   ]
  },
  {
   "cell_type": "code",
   "execution_count": 19,
   "metadata": {
    "collapsed": true
   },
   "outputs": [],
   "source": [
    "cleaned['Cyclist_FSI'] = cleaned.apply(lambda row: (row.Crash_Severity in ['Fatal', 'Hospitalisation'] and row.Count_Unit_Bicycle > 0), axis=1)\n"
   ]
  },
  {
   "cell_type": "markdown",
   "metadata": {},
   "source": [
    "General cleaning until this point, remapping after\n"
   ]
  },
  {
   "cell_type": "code",
   "execution_count": 20,
   "metadata": {
    "collapsed": true
   },
   "outputs": [],
   "source": [
    "cleaned['isCitySpeed'] = cleaned.apply(lambda row: (row.Crash_Speed_Limit in ['60 km/h', '0 - 50 km/h']), axis=1)"
   ]
  },
  {
   "cell_type": "code",
   "execution_count": 21,
   "metadata": {
    "collapsed": true
   },
   "outputs": [],
   "source": [
    "cleaned['Crash_Lighting_Condition'] = cleaned['Crash_Lighting_Condition'].replace(['Darkness - Lighted', 'Darkness - Not lighted'], 'Darkness')"
   ]
  },
  {
   "cell_type": "code",
   "execution_count": 22,
   "metadata": {
    "collapsed": true
   },
   "outputs": [],
   "source": [
    "cleaned['combined_street'] = cleaned.apply(lambda row: (\"%s - %s - %s\" % (row.Loc_Suburb, row.Crash_Street, row.Crash_Street_Intersecting) ), axis=1)"
   ]
  },
  {
   "cell_type": "code",
   "execution_count": 23,
   "metadata": {},
   "outputs": [
    {
     "data": {
      "text/plain": [
       "Index(['Crash_Severity', 'Crash_Month', 'Crash_Day_Of_Week', 'Crash_Hour',\n",
       "       'Loc_Suburb', 'Loc_ABS_Remoteness', 'Crash_Roadway_Feature',\n",
       "       'Crash_Street', 'Crash_Street_Intersecting', 'Crash_Speed_Limit',\n",
       "       'Crash_Road_Surface_Condition', 'Crash_Atmospheric_Condition',\n",
       "       'Crash_Lighting_Condition', 'Crash_Road_Horiz_Align',\n",
       "       'Crash_Road_Vert_Align', 'Count_Unit_Bicycle', 'Cyclist_FSI',\n",
       "       'isCitySpeed', 'combined_street'],\n",
       "      dtype='object')"
      ]
     },
     "execution_count": 23,
     "metadata": {},
     "output_type": "execute_result"
    }
   ],
   "source": [
    "cleaned.columns"
   ]
  },
  {
   "cell_type": "code",
   "execution_count": 24,
   "metadata": {},
   "outputs": [
    {
     "data": {
      "text/html": [
       "<div>\n",
       "<style>\n",
       "    .dataframe thead tr:only-child th {\n",
       "        text-align: right;\n",
       "    }\n",
       "\n",
       "    .dataframe thead th {\n",
       "        text-align: left;\n",
       "    }\n",
       "\n",
       "    .dataframe tbody tr th {\n",
       "        vertical-align: top;\n",
       "    }\n",
       "</style>\n",
       "<table border=\"1\" class=\"dataframe\">\n",
       "  <thead>\n",
       "    <tr style=\"text-align: right;\">\n",
       "      <th></th>\n",
       "      <th>Crash_Hour</th>\n",
       "      <th>Cyclist_FSI</th>\n",
       "      <th>isCitySpeed</th>\n",
       "    </tr>\n",
       "  </thead>\n",
       "  <tbody>\n",
       "    <tr>\n",
       "      <th>Crash_Hour</th>\n",
       "      <td>1.000000</td>\n",
       "      <td>-0.029247</td>\n",
       "      <td>0.024281</td>\n",
       "    </tr>\n",
       "    <tr>\n",
       "      <th>Cyclist_FSI</th>\n",
       "      <td>-0.029247</td>\n",
       "      <td>1.000000</td>\n",
       "      <td>0.047595</td>\n",
       "    </tr>\n",
       "    <tr>\n",
       "      <th>isCitySpeed</th>\n",
       "      <td>0.024281</td>\n",
       "      <td>0.047595</td>\n",
       "      <td>1.000000</td>\n",
       "    </tr>\n",
       "  </tbody>\n",
       "</table>\n",
       "</div>"
      ],
      "text/plain": [
       "             Crash_Hour  Cyclist_FSI  isCitySpeed\n",
       "Crash_Hour     1.000000    -0.029247     0.024281\n",
       "Cyclist_FSI   -0.029247     1.000000     0.047595\n",
       "isCitySpeed    0.024281     0.047595     1.000000"
      ]
     },
     "execution_count": 24,
     "metadata": {},
     "output_type": "execute_result"
    }
   ],
   "source": [
    "cleaned.corr()"
   ]
  },
  {
   "cell_type": "code",
   "execution_count": 29,
   "metadata": {},
   "outputs": [
    {
     "data": {
      "text/plain": [
       "Daylight     125376\n",
       "Darkness      46627\n",
       "Dawn/Dusk     10488\n",
       "Name: Crash_Lighting_Condition, dtype: int64"
      ]
     },
     "execution_count": 29,
     "metadata": {},
     "output_type": "execute_result"
    }
   ],
   "source": [
    "cleaned['Crash_Lighting_Condition'].value_counts()"
   ]
  },
  {
   "cell_type": "code",
   "execution_count": 27,
   "metadata": {
    "collapsed": true
   },
   "outputs": [],
   "source": [
    "shuffle(cleaned).to_csv(os.path.join(data_path,'cyclist_any_address_align.csv'),\n",
    "                          index=False,\n",
    "                         columns=['Crash_Month', 'Crash_Day_Of_Week', 'Crash_Hour',\n",
    "                                 'combined_street', 'isCitySpeed',\n",
    "                                 'Crash_Road_Surface_Condition', 'Crash_Atmospheric_Condition',\n",
    "                                 'Crash_Lighting_Condition',\n",
    "                                 'Crash_Road_Horiz_Align', 'Crash_Road_Vert_Align',\n",
    "                                 'Cyclist_FSI'\n",
    "                                 ])"
   ]
  },
  {
   "cell_type": "code",
   "execution_count": null,
   "metadata": {
    "collapsed": true
   },
   "outputs": [],
   "source": []
  }
 ],
 "metadata": {
  "kernelspec": {
   "display_name": "Python 3",
   "language": "python",
   "name": "python3"
  },
  "language_info": {
   "codemirror_mode": {
    "name": "ipython",
    "version": 3
   },
   "file_extension": ".py",
   "mimetype": "text/x-python",
   "name": "python",
   "nbconvert_exporter": "python",
   "pygments_lexer": "ipython3",
   "version": "3.6.3"
  }
 },
 "nbformat": 4,
 "nbformat_minor": 2
}
